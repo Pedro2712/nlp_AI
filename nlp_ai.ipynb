{
 "cells": [
  {
   "cell_type": "markdown",
   "metadata": {},
   "source": [
    "## Importando as bibliotecas"
   ]
  },
  {
   "cell_type": "code",
   "execution_count": 127,
   "metadata": {},
   "outputs": [],
   "source": [
    "# Manipulação de dados\n",
    "import pandas as pd\n",
    "import numpy as np\n",
    "import re\n",
    "from collections import defaultdict\n",
    "import requests\n",
    "\n",
    "# Visualização de dados\n",
    "import matplotlib.pyplot as plt\n",
    "import seaborn as sns\n",
    "\n",
    "# Pré-processamento de dados\n",
    "from sklearn.preprocessing import StandardScaler, normalize\n",
    "from sklearn.model_selection import train_test_split\n",
    "from sklearn.feature_extraction.text import CountVectorizer, TfidfVectorizer\n",
    "from sklearn.ensemble import RandomForestClassifier\n",
    "\n",
    "# Modelos e pipelines\n",
    "from sklearn.linear_model import LogisticRegression\n",
    "from sklearn.decomposition import NMF, PCA\n",
    "from sklearn.svm import SVC\n",
    "from sklearn.naive_bayes import BernoulliNB\n",
    "from sklearn.pipeline import Pipeline\n",
    "\n",
    "# Métricas de avaliação\n",
    "from sklearn.metrics import accuracy_score, confusion_matrix\n",
    "from sklearn.metrics.pairwise import linear_kernel\n",
    "\n",
    "# Processamento de linguagem natural (NLP)\n",
    "import nltk\n",
    "from nltk.corpus import wordnet\n",
    "from nltk.stem import SnowballStemmer, WordNetLemmatizer\n",
    "import random\n",
    "\n",
    "# Baixar recursos do NLTK, se necessário\n",
    "# nltk.download('wordnet')"
   ]
  },
  {
   "cell_type": "markdown",
   "metadata": {},
   "source": [
    "## Tratando o dataset"
   ]
  },
  {
   "cell_type": "code",
   "execution_count": 36,
   "metadata": {},
   "outputs": [],
   "source": [
    "df = pd.read_csv('archive/spam.csv', encoding='ISO-8859-1')\n",
    "df = df[['v1', 'v2']].rename(columns={'v1': 'label', 'v2': 'text'})\n",
    "df = df[df['label'].isin(['ham', 'spam'])]\n",
    "df['label_num'] = df['label'].map({'ham': 0, 'spam': 1})"
   ]
  },
  {
   "cell_type": "code",
   "execution_count": 37,
   "metadata": {},
   "outputs": [
    {
     "data": {
      "text/html": [
       "<div>\n",
       "<style scoped>\n",
       "    .dataframe tbody tr th:only-of-type {\n",
       "        vertical-align: middle;\n",
       "    }\n",
       "\n",
       "    .dataframe tbody tr th {\n",
       "        vertical-align: top;\n",
       "    }\n",
       "\n",
       "    .dataframe thead th {\n",
       "        text-align: right;\n",
       "    }\n",
       "</style>\n",
       "<table border=\"1\" class=\"dataframe\">\n",
       "  <thead>\n",
       "    <tr style=\"text-align: right;\">\n",
       "      <th></th>\n",
       "      <th>label</th>\n",
       "      <th>text</th>\n",
       "      <th>label_num</th>\n",
       "    </tr>\n",
       "  </thead>\n",
       "  <tbody>\n",
       "    <tr>\n",
       "      <th>0</th>\n",
       "      <td>ham</td>\n",
       "      <td>Go until jurong point, crazy.. Available only ...</td>\n",
       "      <td>0</td>\n",
       "    </tr>\n",
       "    <tr>\n",
       "      <th>1</th>\n",
       "      <td>ham</td>\n",
       "      <td>Ok lar... Joking wif u oni...</td>\n",
       "      <td>0</td>\n",
       "    </tr>\n",
       "    <tr>\n",
       "      <th>2</th>\n",
       "      <td>spam</td>\n",
       "      <td>Free entry in 2 a wkly comp to win FA Cup fina...</td>\n",
       "      <td>1</td>\n",
       "    </tr>\n",
       "    <tr>\n",
       "      <th>3</th>\n",
       "      <td>ham</td>\n",
       "      <td>U dun say so early hor... U c already then say...</td>\n",
       "      <td>0</td>\n",
       "    </tr>\n",
       "    <tr>\n",
       "      <th>4</th>\n",
       "      <td>ham</td>\n",
       "      <td>Nah I don't think he goes to usf, he lives aro...</td>\n",
       "      <td>0</td>\n",
       "    </tr>\n",
       "    <tr>\n",
       "      <th>...</th>\n",
       "      <td>...</td>\n",
       "      <td>...</td>\n",
       "      <td>...</td>\n",
       "    </tr>\n",
       "    <tr>\n",
       "      <th>5567</th>\n",
       "      <td>spam</td>\n",
       "      <td>This is the 2nd time we have tried 2 contact u...</td>\n",
       "      <td>1</td>\n",
       "    </tr>\n",
       "    <tr>\n",
       "      <th>5568</th>\n",
       "      <td>ham</td>\n",
       "      <td>Will Ì_ b going to esplanade fr home?</td>\n",
       "      <td>0</td>\n",
       "    </tr>\n",
       "    <tr>\n",
       "      <th>5569</th>\n",
       "      <td>ham</td>\n",
       "      <td>Pity, * was in mood for that. So...any other s...</td>\n",
       "      <td>0</td>\n",
       "    </tr>\n",
       "    <tr>\n",
       "      <th>5570</th>\n",
       "      <td>ham</td>\n",
       "      <td>The guy did some bitching but I acted like i'd...</td>\n",
       "      <td>0</td>\n",
       "    </tr>\n",
       "    <tr>\n",
       "      <th>5571</th>\n",
       "      <td>ham</td>\n",
       "      <td>Rofl. Its true to its name</td>\n",
       "      <td>0</td>\n",
       "    </tr>\n",
       "  </tbody>\n",
       "</table>\n",
       "<p>5572 rows × 3 columns</p>\n",
       "</div>"
      ],
      "text/plain": [
       "     label                                               text  label_num\n",
       "0      ham  Go until jurong point, crazy.. Available only ...          0\n",
       "1      ham                      Ok lar... Joking wif u oni...          0\n",
       "2     spam  Free entry in 2 a wkly comp to win FA Cup fina...          1\n",
       "3      ham  U dun say so early hor... U c already then say...          0\n",
       "4      ham  Nah I don't think he goes to usf, he lives aro...          0\n",
       "...    ...                                                ...        ...\n",
       "5567  spam  This is the 2nd time we have tried 2 contact u...          1\n",
       "5568   ham              Will Ì_ b going to esplanade fr home?          0\n",
       "5569   ham  Pity, * was in mood for that. So...any other s...          0\n",
       "5570   ham  The guy did some bitching but I acted like i'd...          0\n",
       "5571   ham                         Rofl. Its true to its name          0\n",
       "\n",
       "[5572 rows x 3 columns]"
      ]
     },
     "execution_count": 37,
     "metadata": {},
     "output_type": "execute_result"
    }
   ],
   "source": [
    "df"
   ]
  },
  {
   "cell_type": "markdown",
   "metadata": {},
   "source": [
    "## Criando o modelo"
   ]
  },
  {
   "cell_type": "code",
   "execution_count": 176,
   "metadata": {},
   "outputs": [],
   "source": [
    "def build_pipeline(vectorizer, transformer, classifier):\n",
    "    \"\"\"\n",
    "    Constrói o pipeline com as etapas de vetorização, transformação e classificação.\n",
    "    \n",
    "    :param vectorizer: Vetorizador (ex: CountVectorizer, TfidfVectorizer)\n",
    "    :param transformer: Transformer (ex: NMF, PCA, ou None)\n",
    "    :param classifier: Classificador (ex: BernoulliNB, LogisticRegression)\n",
    "    \n",
    "    :return: Pipeline configurado\n",
    "    \"\"\"\n",
    "    steps = [('vectorizer', vectorizer)]\n",
    "    \n",
    "    if transformer:\n",
    "        steps.append(('transformer', transformer))\n",
    "    \n",
    "    steps.append(('classifier', classifier))\n",
    "    \n",
    "    return Pipeline(steps)\n",
    "\n",
    "def model_evaluation(df, vectorizer, transformer, classifier, test_size=0.2, n_runs=100, random_state=42):\n",
    "    \"\"\"\n",
    "    Avalia um modelo utilizando diferentes vetorizadores, transformadores e classificadores.\n",
    "    \n",
    "    :param df: DataFrame contendo as colunas 'text' e 'label'\n",
    "    :param vectorizer: Vetorizador (ex: CountVectorizer, TfidfVectorizer)\n",
    "    :param transformer: Transformer (ex: NMF, PCA, ou None)\n",
    "    :param classifier: Classificador (ex: BernoulliNB, LogisticRegression)\n",
    "    :param test_size: Proporção do conjunto de teste\n",
    "    :param n_runs: Número de execuções para calcular média e desvio padrão\n",
    "    :param random_state: Semente aleatória para garantir repetibilidade\n",
    "    \n",
    "    :return: Média e desvio padrão da acurácia\n",
    "    \"\"\"\n",
    "    accuracies = []\n",
    "    \n",
    "    for i in range(n_runs):\n",
    "        # Divisão dos dados\n",
    "        x_train, x_test, y_train, y_test = train_test_split(df['text'], df['label'], test_size=test_size, random_state=random_state+i)\n",
    "        \n",
    "        # Construir o pipeline\n",
    "        model = build_pipeline(vectorizer, transformer, classifier)\n",
    "        \n",
    "        # Treinar o modelo\n",
    "        model.fit(x_train, y_train)\n",
    "        \n",
    "        # Prever e avaliar\n",
    "        y_pred = model.predict(x_test)\n",
    "        accuracy = accuracy_score(y_test, y_pred)\n",
    "        accuracies.append(accuracy)\n",
    "    \n",
    "    return model, np.mean(accuracies), np.std(accuracies)\n",
    "\n",
    "# Função para prever se um novo email é spam ou não\n",
    "def predict_email(model, email_text, threshold=0.85):\n",
    "    \"\"\"\n",
    "    Preve se o email é spam ou não com base no modelo treinado, usando um threshold de confiança.\n",
    "    \n",
    "    :param model: O modelo treinado\n",
    "    :param email_text: O conteúdo do email como string\n",
    "    :param threshold: A confiança mínima para classificar como spam (valor entre 0 e 1)\n",
    "    :return: Previsão do modelo (1 = spam, 0 = não-spam) com probabilidade\n",
    "    \"\"\"\n",
    "    for email in email_text:\n",
    "        # Obter a probabilidade da classe 1 (spam)\n",
    "        proba = model.predict_proba([email])[0][1]\n",
    "        \n",
    "        # Se a probabilidade for maior que o threshold, classifica como SPAM\n",
    "        if proba >= threshold:\n",
    "            print(f\"SPAM (Probabilidade: {proba:.2f})\")\n",
    "        else:\n",
    "            print(f\"NÃO é SPAM (Probabilidade: {proba:.2f})\")\n"
   ]
  },
  {
   "cell_type": "code",
   "execution_count": 177,
   "metadata": {},
   "outputs": [
    {
     "name": "stderr",
     "output_type": "stream",
     "text": [
      "Total Progress: 100%|██████████| 16/16 [46:57<00:00, 176.12s/it]\n"
     ]
    }
   ],
   "source": [
    "import matplotlib.pyplot as plt\n",
    "import pandas as pd\n",
    "import seaborn as sns\n",
    "from tqdm import tqdm\n",
    "import warnings\n",
    "from sklearn.exceptions import ConvergenceWarning\n",
    "from sklearn.feature_extraction.text import CountVectorizer, TfidfVectorizer\n",
    "from sklearn.decomposition import NMF, PCA\n",
    "from sklearn.naive_bayes import BernoulliNB\n",
    "from sklearn.linear_model import LogisticRegression\n",
    "from sklearn.svm import SVC\n",
    "from sklearn.ensemble import RandomForestClassifier\n",
    "\n",
    "warnings.filterwarnings(\"ignore\", category=ConvergenceWarning)\n",
    "\n",
    "# Lista de vetorizadores (CountVectorizer, TfidfVectorizer)\n",
    "vectorizers = [\n",
    "    CountVectorizer(binary=True),\n",
    "    TfidfVectorizer()\n",
    "]\n",
    "\n",
    "# Lista de transformadores (NMF ou sem transformador)\n",
    "transformers = [\n",
    "    NMF(n_components=25),\n",
    "    None  # Sem transformador\n",
    "]\n",
    "\n",
    "# Lista de classificadores (BernoulliNB, LogisticRegression, SVC, RandomForest)\n",
    "classifiers = [\n",
    "    BernoulliNB(),\n",
    "    LogisticRegression(max_iter=1000),\n",
    "    SVC(probability=True),  # Para poder usar predict_proba\n",
    "    RandomForestClassifier()\n",
    "]\n",
    "\n",
    "# Para armazenar os resultados e evitar duplicações\n",
    "results = []\n",
    "existing_combinations = set()\n",
    "\n",
    "# Calcula o total de combinações\n",
    "total_combinations = len(vectorizers) * len(transformers) * len(classifiers)\n",
    "\n",
    "# Barra de progresso única\n",
    "with tqdm(total=total_combinations, desc=\"Total Progress\") as pbar:\n",
    "    for vectorizer in vectorizers:\n",
    "        for transformer in transformers:\n",
    "            for classifier in classifiers:\n",
    "                # Criar uma combinação única de vetorizador, transformador e classificador\n",
    "                vec_name = vectorizer.__class__.__name__.replace('Vectorizer', '')\n",
    "                trans_name = transformer.__class__.__name__ if transformer else 'NoTrans'\n",
    "                clf_name = classifier.__class__.__name__.replace('Classifier', '')\n",
    "                combination_name = f\"{vec_name}_{trans_name}_{clf_name}\"\n",
    "                \n",
    "                # Verificar se a combinação já foi avaliada\n",
    "                if combination_name not in existing_combinations:\n",
    "                    existing_combinations.add(combination_name)\n",
    "                    \n",
    "                    # Avaliar o modelo\n",
    "                    model, mean_accuracy, std_accuracy = model_evaluation(df, vectorizer, transformer, classifier)\n",
    "                    \n",
    "                    # Armazenar os resultados\n",
    "                    results.append({\n",
    "                        'Combination': combination_name,\n",
    "                        'Mean Accuracy': mean_accuracy,\n",
    "                        'Std Deviation': std_accuracy\n",
    "                    })\n",
    "                \n",
    "                # Atualizar a barra de progresso\n",
    "                pbar.update(1)\n"
   ]
  },
  {
   "cell_type": "code",
   "execution_count": 178,
   "metadata": {},
   "outputs": [
    {
     "data": {
      "application/vnd.plotly.v1+json": {
       "config": {
        "plotlyServerURL": "https://plot.ly"
       },
       "data": [
        {
         "marker": {
          "color": [
           0.982744394618834,
           0.9823856502242152,
           0.9802600896860989,
           0.9770852017937222,
           0.9770852017937222,
           0.9762421524663678,
           0.9759282511210762,
           0.9723408071748878,
           0.9721255605381165,
           0.9700089686098654,
           0.9665381165919281,
           0.9626367713004484,
           0.9361434977578474,
           0.914627802690583,
           0.910304932735426,
           0.8726098654708521
          ],
          "colorscale": [
           [
            0,
            "#440154"
           ],
           [
            0.1111111111111111,
            "#482878"
           ],
           [
            0.2222222222222222,
            "#3e4989"
           ],
           [
            0.3333333333333333,
            "#31688e"
           ],
           [
            0.4444444444444444,
            "#26828e"
           ],
           [
            0.5555555555555556,
            "#1f9e89"
           ],
           [
            0.6666666666666666,
            "#35b779"
           ],
           [
            0.7777777777777778,
            "#6ece58"
           ],
           [
            0.8888888888888888,
            "#b5de2b"
           ],
           [
            1,
            "#fde725"
           ]
          ]
         },
         "text": [
          0.983,
          0.982,
          0.98,
          0.977,
          0.977,
          0.976,
          0.976,
          0.972,
          0.972,
          0.97,
          0.967,
          0.963,
          0.936,
          0.915,
          0.91,
          0.873
         ],
         "textposition": "auto",
         "type": "bar",
         "x": [
          "Count_NoTrans_LogisticRegression",
          "Tfidf_NoTrans_SVC",
          "Count_NoTrans_SVC",
          "Count_NoTrans_BernoulliNB",
          "Tfidf_NoTrans_BernoulliNB",
          "Tfidf_NoTrans_RandomForest",
          "Count_NoTrans_RandomForest",
          "Count_NMF_RandomForest",
          "Tfidf_NMF_RandomForest",
          "Tfidf_NoTrans_LogisticRegression",
          "Count_NMF_SVC",
          "Tfidf_NMF_SVC",
          "Count_NMF_LogisticRegression",
          "Count_NMF_BernoulliNB",
          "Tfidf_NMF_BernoulliNB",
          "Tfidf_NMF_LogisticRegression"
         ],
         "y": [
          0.982744394618834,
          0.9823856502242152,
          0.9802600896860989,
          0.9770852017937222,
          0.9770852017937222,
          0.9762421524663678,
          0.9759282511210762,
          0.9723408071748878,
          0.9721255605381165,
          0.9700089686098654,
          0.9665381165919281,
          0.9626367713004484,
          0.9361434977578474,
          0.914627802690583,
          0.910304932735426,
          0.8726098654708521
         ]
        }
       ],
       "layout": {
        "bargap": 0.2,
        "height": 600,
        "template": {
         "data": {
          "bar": [
           {
            "error_x": {
             "color": "#2a3f5f"
            },
            "error_y": {
             "color": "#2a3f5f"
            },
            "marker": {
             "line": {
              "color": "#E5ECF6",
              "width": 0.5
             },
             "pattern": {
              "fillmode": "overlay",
              "size": 10,
              "solidity": 0.2
             }
            },
            "type": "bar"
           }
          ],
          "barpolar": [
           {
            "marker": {
             "line": {
              "color": "#E5ECF6",
              "width": 0.5
             },
             "pattern": {
              "fillmode": "overlay",
              "size": 10,
              "solidity": 0.2
             }
            },
            "type": "barpolar"
           }
          ],
          "carpet": [
           {
            "aaxis": {
             "endlinecolor": "#2a3f5f",
             "gridcolor": "white",
             "linecolor": "white",
             "minorgridcolor": "white",
             "startlinecolor": "#2a3f5f"
            },
            "baxis": {
             "endlinecolor": "#2a3f5f",
             "gridcolor": "white",
             "linecolor": "white",
             "minorgridcolor": "white",
             "startlinecolor": "#2a3f5f"
            },
            "type": "carpet"
           }
          ],
          "choropleth": [
           {
            "colorbar": {
             "outlinewidth": 0,
             "ticks": ""
            },
            "type": "choropleth"
           }
          ],
          "contour": [
           {
            "colorbar": {
             "outlinewidth": 0,
             "ticks": ""
            },
            "colorscale": [
             [
              0,
              "#0d0887"
             ],
             [
              0.1111111111111111,
              "#46039f"
             ],
             [
              0.2222222222222222,
              "#7201a8"
             ],
             [
              0.3333333333333333,
              "#9c179e"
             ],
             [
              0.4444444444444444,
              "#bd3786"
             ],
             [
              0.5555555555555556,
              "#d8576b"
             ],
             [
              0.6666666666666666,
              "#ed7953"
             ],
             [
              0.7777777777777778,
              "#fb9f3a"
             ],
             [
              0.8888888888888888,
              "#fdca26"
             ],
             [
              1,
              "#f0f921"
             ]
            ],
            "type": "contour"
           }
          ],
          "contourcarpet": [
           {
            "colorbar": {
             "outlinewidth": 0,
             "ticks": ""
            },
            "type": "contourcarpet"
           }
          ],
          "heatmap": [
           {
            "colorbar": {
             "outlinewidth": 0,
             "ticks": ""
            },
            "colorscale": [
             [
              0,
              "#0d0887"
             ],
             [
              0.1111111111111111,
              "#46039f"
             ],
             [
              0.2222222222222222,
              "#7201a8"
             ],
             [
              0.3333333333333333,
              "#9c179e"
             ],
             [
              0.4444444444444444,
              "#bd3786"
             ],
             [
              0.5555555555555556,
              "#d8576b"
             ],
             [
              0.6666666666666666,
              "#ed7953"
             ],
             [
              0.7777777777777778,
              "#fb9f3a"
             ],
             [
              0.8888888888888888,
              "#fdca26"
             ],
             [
              1,
              "#f0f921"
             ]
            ],
            "type": "heatmap"
           }
          ],
          "heatmapgl": [
           {
            "colorbar": {
             "outlinewidth": 0,
             "ticks": ""
            },
            "colorscale": [
             [
              0,
              "#0d0887"
             ],
             [
              0.1111111111111111,
              "#46039f"
             ],
             [
              0.2222222222222222,
              "#7201a8"
             ],
             [
              0.3333333333333333,
              "#9c179e"
             ],
             [
              0.4444444444444444,
              "#bd3786"
             ],
             [
              0.5555555555555556,
              "#d8576b"
             ],
             [
              0.6666666666666666,
              "#ed7953"
             ],
             [
              0.7777777777777778,
              "#fb9f3a"
             ],
             [
              0.8888888888888888,
              "#fdca26"
             ],
             [
              1,
              "#f0f921"
             ]
            ],
            "type": "heatmapgl"
           }
          ],
          "histogram": [
           {
            "marker": {
             "pattern": {
              "fillmode": "overlay",
              "size": 10,
              "solidity": 0.2
             }
            },
            "type": "histogram"
           }
          ],
          "histogram2d": [
           {
            "colorbar": {
             "outlinewidth": 0,
             "ticks": ""
            },
            "colorscale": [
             [
              0,
              "#0d0887"
             ],
             [
              0.1111111111111111,
              "#46039f"
             ],
             [
              0.2222222222222222,
              "#7201a8"
             ],
             [
              0.3333333333333333,
              "#9c179e"
             ],
             [
              0.4444444444444444,
              "#bd3786"
             ],
             [
              0.5555555555555556,
              "#d8576b"
             ],
             [
              0.6666666666666666,
              "#ed7953"
             ],
             [
              0.7777777777777778,
              "#fb9f3a"
             ],
             [
              0.8888888888888888,
              "#fdca26"
             ],
             [
              1,
              "#f0f921"
             ]
            ],
            "type": "histogram2d"
           }
          ],
          "histogram2dcontour": [
           {
            "colorbar": {
             "outlinewidth": 0,
             "ticks": ""
            },
            "colorscale": [
             [
              0,
              "#0d0887"
             ],
             [
              0.1111111111111111,
              "#46039f"
             ],
             [
              0.2222222222222222,
              "#7201a8"
             ],
             [
              0.3333333333333333,
              "#9c179e"
             ],
             [
              0.4444444444444444,
              "#bd3786"
             ],
             [
              0.5555555555555556,
              "#d8576b"
             ],
             [
              0.6666666666666666,
              "#ed7953"
             ],
             [
              0.7777777777777778,
              "#fb9f3a"
             ],
             [
              0.8888888888888888,
              "#fdca26"
             ],
             [
              1,
              "#f0f921"
             ]
            ],
            "type": "histogram2dcontour"
           }
          ],
          "mesh3d": [
           {
            "colorbar": {
             "outlinewidth": 0,
             "ticks": ""
            },
            "type": "mesh3d"
           }
          ],
          "parcoords": [
           {
            "line": {
             "colorbar": {
              "outlinewidth": 0,
              "ticks": ""
             }
            },
            "type": "parcoords"
           }
          ],
          "pie": [
           {
            "automargin": true,
            "type": "pie"
           }
          ],
          "scatter": [
           {
            "fillpattern": {
             "fillmode": "overlay",
             "size": 10,
             "solidity": 0.2
            },
            "type": "scatter"
           }
          ],
          "scatter3d": [
           {
            "line": {
             "colorbar": {
              "outlinewidth": 0,
              "ticks": ""
             }
            },
            "marker": {
             "colorbar": {
              "outlinewidth": 0,
              "ticks": ""
             }
            },
            "type": "scatter3d"
           }
          ],
          "scattercarpet": [
           {
            "marker": {
             "colorbar": {
              "outlinewidth": 0,
              "ticks": ""
             }
            },
            "type": "scattercarpet"
           }
          ],
          "scattergeo": [
           {
            "marker": {
             "colorbar": {
              "outlinewidth": 0,
              "ticks": ""
             }
            },
            "type": "scattergeo"
           }
          ],
          "scattergl": [
           {
            "marker": {
             "colorbar": {
              "outlinewidth": 0,
              "ticks": ""
             }
            },
            "type": "scattergl"
           }
          ],
          "scattermapbox": [
           {
            "marker": {
             "colorbar": {
              "outlinewidth": 0,
              "ticks": ""
             }
            },
            "type": "scattermapbox"
           }
          ],
          "scatterpolar": [
           {
            "marker": {
             "colorbar": {
              "outlinewidth": 0,
              "ticks": ""
             }
            },
            "type": "scatterpolar"
           }
          ],
          "scatterpolargl": [
           {
            "marker": {
             "colorbar": {
              "outlinewidth": 0,
              "ticks": ""
             }
            },
            "type": "scatterpolargl"
           }
          ],
          "scatterternary": [
           {
            "marker": {
             "colorbar": {
              "outlinewidth": 0,
              "ticks": ""
             }
            },
            "type": "scatterternary"
           }
          ],
          "surface": [
           {
            "colorbar": {
             "outlinewidth": 0,
             "ticks": ""
            },
            "colorscale": [
             [
              0,
              "#0d0887"
             ],
             [
              0.1111111111111111,
              "#46039f"
             ],
             [
              0.2222222222222222,
              "#7201a8"
             ],
             [
              0.3333333333333333,
              "#9c179e"
             ],
             [
              0.4444444444444444,
              "#bd3786"
             ],
             [
              0.5555555555555556,
              "#d8576b"
             ],
             [
              0.6666666666666666,
              "#ed7953"
             ],
             [
              0.7777777777777778,
              "#fb9f3a"
             ],
             [
              0.8888888888888888,
              "#fdca26"
             ],
             [
              1,
              "#f0f921"
             ]
            ],
            "type": "surface"
           }
          ],
          "table": [
           {
            "cells": {
             "fill": {
              "color": "#EBF0F8"
             },
             "line": {
              "color": "white"
             }
            },
            "header": {
             "fill": {
              "color": "#C8D4E3"
             },
             "line": {
              "color": "white"
             }
            },
            "type": "table"
           }
          ]
         },
         "layout": {
          "annotationdefaults": {
           "arrowcolor": "#2a3f5f",
           "arrowhead": 0,
           "arrowwidth": 1
          },
          "autotypenumbers": "strict",
          "coloraxis": {
           "colorbar": {
            "outlinewidth": 0,
            "ticks": ""
           }
          },
          "colorscale": {
           "diverging": [
            [
             0,
             "#8e0152"
            ],
            [
             0.1,
             "#c51b7d"
            ],
            [
             0.2,
             "#de77ae"
            ],
            [
             0.3,
             "#f1b6da"
            ],
            [
             0.4,
             "#fde0ef"
            ],
            [
             0.5,
             "#f7f7f7"
            ],
            [
             0.6,
             "#e6f5d0"
            ],
            [
             0.7,
             "#b8e186"
            ],
            [
             0.8,
             "#7fbc41"
            ],
            [
             0.9,
             "#4d9221"
            ],
            [
             1,
             "#276419"
            ]
           ],
           "sequential": [
            [
             0,
             "#0d0887"
            ],
            [
             0.1111111111111111,
             "#46039f"
            ],
            [
             0.2222222222222222,
             "#7201a8"
            ],
            [
             0.3333333333333333,
             "#9c179e"
            ],
            [
             0.4444444444444444,
             "#bd3786"
            ],
            [
             0.5555555555555556,
             "#d8576b"
            ],
            [
             0.6666666666666666,
             "#ed7953"
            ],
            [
             0.7777777777777778,
             "#fb9f3a"
            ],
            [
             0.8888888888888888,
             "#fdca26"
            ],
            [
             1,
             "#f0f921"
            ]
           ],
           "sequentialminus": [
            [
             0,
             "#0d0887"
            ],
            [
             0.1111111111111111,
             "#46039f"
            ],
            [
             0.2222222222222222,
             "#7201a8"
            ],
            [
             0.3333333333333333,
             "#9c179e"
            ],
            [
             0.4444444444444444,
             "#bd3786"
            ],
            [
             0.5555555555555556,
             "#d8576b"
            ],
            [
             0.6666666666666666,
             "#ed7953"
            ],
            [
             0.7777777777777778,
             "#fb9f3a"
            ],
            [
             0.8888888888888888,
             "#fdca26"
            ],
            [
             1,
             "#f0f921"
            ]
           ]
          },
          "colorway": [
           "#636efa",
           "#EF553B",
           "#00cc96",
           "#ab63fa",
           "#FFA15A",
           "#19d3f3",
           "#FF6692",
           "#B6E880",
           "#FF97FF",
           "#FECB52"
          ],
          "font": {
           "color": "#2a3f5f"
          },
          "geo": {
           "bgcolor": "white",
           "lakecolor": "white",
           "landcolor": "#E5ECF6",
           "showlakes": true,
           "showland": true,
           "subunitcolor": "white"
          },
          "hoverlabel": {
           "align": "left"
          },
          "hovermode": "closest",
          "mapbox": {
           "style": "light"
          },
          "paper_bgcolor": "white",
          "plot_bgcolor": "#E5ECF6",
          "polar": {
           "angularaxis": {
            "gridcolor": "white",
            "linecolor": "white",
            "ticks": ""
           },
           "bgcolor": "#E5ECF6",
           "radialaxis": {
            "gridcolor": "white",
            "linecolor": "white",
            "ticks": ""
           }
          },
          "scene": {
           "xaxis": {
            "backgroundcolor": "#E5ECF6",
            "gridcolor": "white",
            "gridwidth": 2,
            "linecolor": "white",
            "showbackground": true,
            "ticks": "",
            "zerolinecolor": "white"
           },
           "yaxis": {
            "backgroundcolor": "#E5ECF6",
            "gridcolor": "white",
            "gridwidth": 2,
            "linecolor": "white",
            "showbackground": true,
            "ticks": "",
            "zerolinecolor": "white"
           },
           "zaxis": {
            "backgroundcolor": "#E5ECF6",
            "gridcolor": "white",
            "gridwidth": 2,
            "linecolor": "white",
            "showbackground": true,
            "ticks": "",
            "zerolinecolor": "white"
           }
          },
          "shapedefaults": {
           "line": {
            "color": "#2a3f5f"
           }
          },
          "ternary": {
           "aaxis": {
            "gridcolor": "white",
            "linecolor": "white",
            "ticks": ""
           },
           "baxis": {
            "gridcolor": "white",
            "linecolor": "white",
            "ticks": ""
           },
           "bgcolor": "#E5ECF6",
           "caxis": {
            "gridcolor": "white",
            "linecolor": "white",
            "ticks": ""
           }
          },
          "title": {
           "x": 0.05
          },
          "xaxis": {
           "automargin": true,
           "gridcolor": "white",
           "linecolor": "white",
           "ticks": "",
           "title": {
            "standoff": 15
           },
           "zerolinecolor": "white",
           "zerolinewidth": 2
          },
          "yaxis": {
           "automargin": true,
           "gridcolor": "white",
           "linecolor": "white",
           "ticks": "",
           "title": {
            "standoff": 15
           },
           "zerolinecolor": "white",
           "zerolinewidth": 2
          }
         }
        },
        "title": {
         "text": "Mean Accuracy of Model Combinations"
        },
        "width": 1000,
        "xaxis": {
         "tickangle": -45,
         "title": {
          "text": "Model Combination"
         }
        },
        "yaxis": {
         "title": {
          "text": "Mean Accuracy"
         }
        }
       }
      }
     },
     "metadata": {},
     "output_type": "display_data"
    }
   ],
   "source": [
    "import plotly.graph_objects as go\n",
    "import pandas as pd\n",
    "\n",
    "results = pd.DataFrame(results)\n",
    "results_df = results.sort_values('Mean Accuracy', ascending=False)\n",
    "\n",
    "# Criar o gráfico de barras com Plotly\n",
    "fig = go.Figure()\n",
    "\n",
    "fig.add_trace(go.Bar(\n",
    "    x=results_df['Combination'],\n",
    "    y=results_df['Mean Accuracy'],\n",
    "    text=results_df['Mean Accuracy'].round(3),  # Exibir os valores arredondados\n",
    "    textposition='auto',  # Posição automática do texto\n",
    "    marker=dict(color=results_df['Mean Accuracy'], colorscale='Viridis'),  # Cores baseadas na acurácia\n",
    "))\n",
    "\n",
    "# Atualizar layout do gráfico\n",
    "fig.update_layout(\n",
    "    title='Mean Accuracy of Model Combinations',\n",
    "    xaxis_title='Model Combination',\n",
    "    yaxis_title='Mean Accuracy',\n",
    "    xaxis_tickangle=-45,  # Rotacionar os rótulos em 45 graus\n",
    "    bargap=0.2,  # Espaço entre as barras\n",
    "    height=600,  # Altura do gráfico\n",
    "    width=1000,  # Largura do gráfico\n",
    ")\n",
    "\n",
    "# Exibir o gráfico\n",
    "fig.show()\n"
   ]
  },
  {
   "cell_type": "code",
   "execution_count": 117,
   "metadata": {},
   "outputs": [],
   "source": [
    "emails_legitimos = [\n",
    "    \"\"\"We are pleased to inform you that you have been selected to move forward to the next stage of our hiring process! After carefully reviewing your profile, we are impressed by your skills and experience, and we believe you are a strong candidate for the Amazon role.\n",
    "    The next step will be a virtual interview with our team, and we are excited to get to know you better. We will be sending you more details shortly, including the date, time, and location of the interview.\n",
    "    Congratulations once again, and best of luck in the next stage!\n",
    "    Best regards,  \n",
    "    Emma Johnson\"\"\",\n",
    "    \n",
    "    \"\"\"Hello John,\n",
    "    We are happy to inform you that your refund request has been approved! The amount of $150 will be credited to your account within the next 3 to 5 business days. Please keep an eye on your bank statement to confirm the receipt.\n",
    "    If you have any questions or need further information, feel free to contact us.\n",
    "    Best regards,\n",
    "    Liam Roberts\n",
    "    Support Team\"\"\",\n",
    "    \n",
    "    \"\"\"Dear John,\n",
    "    Thank you for registering for our **Technology Workshop**. This email is to confirm your participation in the event, which will take place on October 15th at 10:00 AM at the São Paulo Convention Center.\n",
    "    Please bring a valid ID on the day of the event. If you have any questions, feel free to contact us.\n",
    "    We look forward to seeing you there!\n",
    "    Best regards,\n",
    "    Sarah Miller\n",
    "    Event Organization Team\"\"\",\n",
    "    \n",
    "    \"\"\"Hello John,\n",
    "    We would love to hear your feedback on **Project Alpha**, which was implemented last week. Your feedback will help us improve our processes and ensure we are meeting the team's needs.\n",
    "    Please fill out the feedback form by Friday, September 30th. If you have any questions, feel free to reach out.\n",
    "    Best regards,\n",
    "    David Thompson\n",
    "    Project Management Team\"\"\",\n",
    "    \n",
    "    \"\"\"Dear John,\n",
    "    We are implementing a new layer of security on our platform. To ensure your account remains secure, we ask that you update your password by the end of the month.\n",
    "    Please log in to your profile and follow the instructions to change your password. Should you need any assistance, our support team is available 24/7.\n",
    "    Thank you for trusting Global Bank!\n",
    "    Best regards,\n",
    "    Olivia Parker\n",
    "    Customer Support Team\n",
    "    Global Bank\"\"\",\n",
    "    \n",
    "    \"\"\"Hello Team,\n",
    "    Just a quick reminder about our weekly meeting, which will take place next Monday at 10:00 AM. We will discuss the progress of ongoing projects and set goals for the upcoming week.\n",
    "    Meeting link: [meeting link]\n",
    "    If you are unable to attend, please let me know in advance.\n",
    "    Best regards,\n",
    "    Michael Davis\n",
    "    Project Manager\"\"\"\n",
    "]\n"
   ]
  },
  {
   "cell_type": "code",
   "execution_count": 123,
   "metadata": {},
   "outputs": [
    {
     "name": "stdout",
     "output_type": "stream",
     "text": [
      "NÃO é SPAM (Probabilidade: 0.12)\n",
      "NÃO é SPAM (Probabilidade: 0.64)\n",
      "NÃO é SPAM (Probabilidade: 0.54)\n",
      "NÃO é SPAM (Probabilidade: 0.04)\n",
      "NÃO é SPAM (Probabilidade: 0.21)\n",
      "NÃO é SPAM (Probabilidade: 0.07)\n",
      "Previsão para o novo email: None\n"
     ]
    }
   ],
   "source": [
    "# Testar com um novo email\n",
    "resultado = predict_email(model_count, emails_legitimos)\n",
    "\n",
    "print(f\"Previsão para o novo email: {resultado}\")"
   ]
  }
 ],
 "metadata": {
  "kernelspec": {
   "display_name": "Python 3",
   "language": "python",
   "name": "python3"
  },
  "language_info": {
   "codemirror_mode": {
    "name": "ipython",
    "version": 3
   },
   "file_extension": ".py",
   "mimetype": "text/x-python",
   "name": "python",
   "nbconvert_exporter": "python",
   "pygments_lexer": "ipython3",
   "version": "3.11.3"
  }
 },
 "nbformat": 4,
 "nbformat_minor": 2
}
