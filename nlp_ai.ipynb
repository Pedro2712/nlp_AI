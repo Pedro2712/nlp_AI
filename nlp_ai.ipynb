{
 "cells": [
  {
   "cell_type": "markdown",
   "metadata": {},
   "source": [
    "## Importando as bibliotecas"
   ]
  },
  {
   "cell_type": "code",
   "execution_count": 92,
   "metadata": {},
   "outputs": [
    {
     "name": "stderr",
     "output_type": "stream",
     "text": [
      "[nltk_data] Downloading package stopwords to\n",
      "[nltk_data]     C:\\Users\\pedro\\AppData\\Roaming\\nltk_data...\n",
      "[nltk_data]   Package stopwords is already up-to-date!\n"
     ]
    }
   ],
   "source": [
    "# Manipulação de dados\n",
    "import pandas as pd\n",
    "import numpy as np\n",
    "import re\n",
    "from collections import defaultdict\n",
    "import requests\n",
    "\n",
    "# Visualização de dados\n",
    "import matplotlib.pyplot as plt\n",
    "import seaborn as sns\n",
    "import plotly.graph_objects as go\n",
    "import plotly.express as px\n",
    "\n",
    "# Pré-processamento de dados\n",
    "from sklearn.preprocessing import StandardScaler, normalize\n",
    "from sklearn.model_selection import train_test_split, RepeatedStratifiedKFold, cross_val_score\n",
    "from sklearn.feature_extraction.text import CountVectorizer, TfidfVectorizer\n",
    "from sklearn.decomposition import NMF, PCA\n",
    "from sklearn.pipeline import Pipeline\n",
    "\n",
    "# Modelos\n",
    "from sklearn.ensemble import RandomForestClassifier\n",
    "from sklearn.linear_model import LogisticRegression\n",
    "from sklearn.svm import SVC\n",
    "from sklearn.naive_bayes import BernoulliNB\n",
    "\n",
    "# Métricas de avaliação\n",
    "from sklearn.metrics import accuracy_score, confusion_matrix\n",
    "from sklearn.metrics.pairwise import linear_kernel\n",
    "\n",
    "# Processamento de linguagem natural (NLP)\n",
    "import nltk\n",
    "nltk.download('stopwords')\n",
    "from nltk.corpus import wordnet\n",
    "from nltk.stem import SnowballStemmer, WordNetLemmatizer\n",
    "\n",
    "# Utilitários e tratamento de warnings\n",
    "import random\n",
    "from tqdm import tqdm\n",
    "import warnings\n",
    "from sklearn.exceptions import ConvergenceWarning\n",
    "\n",
    "# Ignorar avisos de convergência\n",
    "warnings.filterwarnings(\"ignore\", category=ConvergenceWarning)\n"
   ]
  },
  {
   "cell_type": "markdown",
   "metadata": {},
   "source": [
    "## Tratando o dataset"
   ]
  },
  {
   "cell_type": "code",
   "execution_count": 10,
   "metadata": {},
   "outputs": [],
   "source": [
    "df = pd.read_csv('archive/spam.csv', encoding='ISO-8859-1')\n",
    "df = df[['v1', 'v2']].rename(columns={'v1': 'label', 'v2': 'text'})\n",
    "df = df[df['label'].isin(['ham', 'spam'])]\n",
    "df['label_num'] = df['label'].map({'ham': 0, 'spam': 1})"
   ]
  },
  {
   "cell_type": "code",
   "execution_count": 11,
   "metadata": {},
   "outputs": [
    {
     "data": {
      "text/html": [
       "<div>\n",
       "<style scoped>\n",
       "    .dataframe tbody tr th:only-of-type {\n",
       "        vertical-align: middle;\n",
       "    }\n",
       "\n",
       "    .dataframe tbody tr th {\n",
       "        vertical-align: top;\n",
       "    }\n",
       "\n",
       "    .dataframe thead th {\n",
       "        text-align: right;\n",
       "    }\n",
       "</style>\n",
       "<table border=\"1\" class=\"dataframe\">\n",
       "  <thead>\n",
       "    <tr style=\"text-align: right;\">\n",
       "      <th></th>\n",
       "      <th>label</th>\n",
       "      <th>text</th>\n",
       "      <th>label_num</th>\n",
       "    </tr>\n",
       "  </thead>\n",
       "  <tbody>\n",
       "    <tr>\n",
       "      <th>0</th>\n",
       "      <td>ham</td>\n",
       "      <td>Go until jurong point, crazy.. Available only ...</td>\n",
       "      <td>0</td>\n",
       "    </tr>\n",
       "    <tr>\n",
       "      <th>1</th>\n",
       "      <td>ham</td>\n",
       "      <td>Ok lar... Joking wif u oni...</td>\n",
       "      <td>0</td>\n",
       "    </tr>\n",
       "    <tr>\n",
       "      <th>2</th>\n",
       "      <td>spam</td>\n",
       "      <td>Free entry in 2 a wkly comp to win FA Cup fina...</td>\n",
       "      <td>1</td>\n",
       "    </tr>\n",
       "    <tr>\n",
       "      <th>3</th>\n",
       "      <td>ham</td>\n",
       "      <td>U dun say so early hor... U c already then say...</td>\n",
       "      <td>0</td>\n",
       "    </tr>\n",
       "    <tr>\n",
       "      <th>4</th>\n",
       "      <td>ham</td>\n",
       "      <td>Nah I don't think he goes to usf, he lives aro...</td>\n",
       "      <td>0</td>\n",
       "    </tr>\n",
       "    <tr>\n",
       "      <th>...</th>\n",
       "      <td>...</td>\n",
       "      <td>...</td>\n",
       "      <td>...</td>\n",
       "    </tr>\n",
       "    <tr>\n",
       "      <th>5567</th>\n",
       "      <td>spam</td>\n",
       "      <td>This is the 2nd time we have tried 2 contact u...</td>\n",
       "      <td>1</td>\n",
       "    </tr>\n",
       "    <tr>\n",
       "      <th>5568</th>\n",
       "      <td>ham</td>\n",
       "      <td>Will Ì_ b going to esplanade fr home?</td>\n",
       "      <td>0</td>\n",
       "    </tr>\n",
       "    <tr>\n",
       "      <th>5569</th>\n",
       "      <td>ham</td>\n",
       "      <td>Pity, * was in mood for that. So...any other s...</td>\n",
       "      <td>0</td>\n",
       "    </tr>\n",
       "    <tr>\n",
       "      <th>5570</th>\n",
       "      <td>ham</td>\n",
       "      <td>The guy did some bitching but I acted like i'd...</td>\n",
       "      <td>0</td>\n",
       "    </tr>\n",
       "    <tr>\n",
       "      <th>5571</th>\n",
       "      <td>ham</td>\n",
       "      <td>Rofl. Its true to its name</td>\n",
       "      <td>0</td>\n",
       "    </tr>\n",
       "  </tbody>\n",
       "</table>\n",
       "<p>5572 rows × 3 columns</p>\n",
       "</div>"
      ],
      "text/plain": [
       "     label                                               text  label_num\n",
       "0      ham  Go until jurong point, crazy.. Available only ...          0\n",
       "1      ham                      Ok lar... Joking wif u oni...          0\n",
       "2     spam  Free entry in 2 a wkly comp to win FA Cup fina...          1\n",
       "3      ham  U dun say so early hor... U c already then say...          0\n",
       "4      ham  Nah I don't think he goes to usf, he lives aro...          0\n",
       "...    ...                                                ...        ...\n",
       "5567  spam  This is the 2nd time we have tried 2 contact u...          1\n",
       "5568   ham              Will Ì_ b going to esplanade fr home?          0\n",
       "5569   ham  Pity, * was in mood for that. So...any other s...          0\n",
       "5570   ham  The guy did some bitching but I acted like i'd...          0\n",
       "5571   ham                         Rofl. Its true to its name          0\n",
       "\n",
       "[5572 rows x 3 columns]"
      ]
     },
     "execution_count": 11,
     "metadata": {},
     "output_type": "execute_result"
    }
   ],
   "source": [
    "df"
   ]
  },
  {
   "cell_type": "markdown",
   "metadata": {},
   "source": [
    "## Pré-processamento dos dados"
   ]
  },
  {
   "cell_type": "code",
   "execution_count": 14,
   "metadata": {},
   "outputs": [],
   "source": [
    "# Stemmed text\n",
    "df_stemmed = df.copy()\n",
    "\n",
    "stemmer = SnowballStemmer(\"english\")\n",
    "df_stemmed['text'] = df_stemmed['text'].apply(lambda x: ' '.join([stemmer.stem(word) for word in x.split()]))"
   ]
  },
  {
   "cell_type": "code",
   "execution_count": 16,
   "metadata": {},
   "outputs": [],
   "source": [
    "# Lemmatized text\n",
    "df_lemmatized = df.copy()\n",
    "\n",
    "lemmatizer = WordNetLemmatizer()\n",
    "df_lemmatized['text'] = df_lemmatized['text'].apply(lambda x: ' '.join([lemmatizer.lemmatize(word, pos='v') for word in x.split()]))"
   ]
  },
  {
   "cell_type": "code",
   "execution_count": 20,
   "metadata": {},
   "outputs": [],
   "source": [
    "# Stopwords removal\n",
    "\n",
    "df_no_stopwords = df.copy()\n",
    "\n",
    "stopwords = nltk.corpus.stopwords.words('english')\n",
    "df_no_stopwords['text'] = df_no_stopwords['text'].apply(lambda x: ' '.join([word for word in x.split() if word.lower() not in stopwords]))"
   ]
  },
  {
   "cell_type": "markdown",
   "metadata": {},
   "source": [
    "## Criando o modelo"
   ]
  },
  {
   "cell_type": "code",
   "execution_count": 31,
   "metadata": {},
   "outputs": [],
   "source": [
    "def build_pipeline(vectorizer, transformer, classifier):\n",
    "    \"\"\"\n",
    "    Constrói o pipeline com as etapas de vetorização, transformação e classificação.\n",
    "    \n",
    "    :param vectorizer: Vetorizador (ex: CountVectorizer, TfidfVectorizer)\n",
    "    :param transformer: Transformer (ex: NMF, PCA, ou None)\n",
    "    :param classifier: Classificador (ex: BernoulliNB, LogisticRegression)\n",
    "    \n",
    "    :return: Pipeline configurado\n",
    "    \"\"\"\n",
    "    steps = [('vectorizer', vectorizer)]\n",
    "    \n",
    "    if transformer:\n",
    "        steps.append(('transformer', transformer))\n",
    "    \n",
    "    steps.append(('classifier', classifier))\n",
    "    \n",
    "    return Pipeline(steps)\n",
    "\n",
    "def model_evaluation(df, vectorizer, transformer, classifier, n_repeats=20, n_splits=5, random_state=42):\n",
    "    \"\"\"\n",
    "    Avalia um modelo utilizando validação cruzada repetida com diferentes vetorizadores, transformadores e classificadores.\n",
    "    \n",
    "    :param df: DataFrame contendo as colunas 'text' e 'label'\n",
    "    :param vectorizer: Vetorizador (ex: CountVectorizer, TfidfVectorizer)\n",
    "    :param transformer: Transformer (ex: NMF, PCA, ou None)\n",
    "    :param classifier: Classificador (ex: BernoulliNB, LogisticRegression)\n",
    "    :param n_repeats: Número de repetições da validação cruzada\n",
    "    :param n_splits: Número de splits (folds) na validação cruzada\n",
    "    :param random_state: Semente aleatória para garantir repetibilidade\n",
    "    \n",
    "    :return: Média e desvio padrão da acurácia\n",
    "    \"\"\"\n",
    "    \n",
    "    X = vectorizer.fit_transform(df['text'])\n",
    "    y = df['label']\n",
    "    \n",
    "    if transformer:\n",
    "        X = transformer.fit_transform(X)\n",
    "    \n",
    "    rskf = RepeatedStratifiedKFold(n_splits=n_splits, n_repeats=n_repeats, random_state=random_state)\n",
    "    \n",
    "    accuracies = cross_val_score(classifier, X, y, cv=rskf, scoring='accuracy')\n",
    "    \n",
    "    return classifier, np.mean(accuracies), np.std(accuracies)\n",
    "\n",
    "def predict_email(model, email_text, threshold=0.85):\n",
    "    \"\"\"\n",
    "    Preve se o email é spam ou não com base no modelo treinado, usando um threshold de confiança.\n",
    "    \n",
    "    :param model: O modelo treinado\n",
    "    :param email_text: O conteúdo do email como string\n",
    "    :param threshold: A confiança mínima para classificar como spam (valor entre 0 e 1)\n",
    "    :return: Previsão do modelo (1 = spam, 0 = não-spam) com probabilidade\n",
    "    \"\"\"\n",
    "    for email in email_text:\n",
    "        # Obter a probabilidade da classe 1 (spam)\n",
    "        proba = model.predict_proba([email])[0][1]\n",
    "        \n",
    "        # Se a probabilidade for maior que o threshold, classifica como SPAM\n",
    "        if proba >= threshold:\n",
    "            print(f\"SPAM (Probabilidade: {proba:.2f})\")\n",
    "        else:\n",
    "            print(f\"NÃO é SPAM (Probabilidade: {proba:.2f})\")\n"
   ]
  },
  {
   "cell_type": "code",
   "execution_count": 32,
   "metadata": {},
   "outputs": [
    {
     "name": "stderr",
     "output_type": "stream",
     "text": [
      "Total Progress: 100%|██████████| 36/36 [1:14:33<00:00, 124.27s/it]"
     ]
    },
    {
     "name": "stdout",
     "output_type": "stream",
     "text": [
      "      DataFrame                                   Combination  Mean Accuracy  \\\n",
      "0       Stemmed                 Stemmed_Count_NMF_BernoulliNB       0.913810   \n",
      "1       Stemmed          Stemmed_Count_NMF_LogisticRegression       0.939223   \n",
      "2       Stemmed                Stemmed_Count_NMF_RandomForest       0.974965   \n",
      "3       Stemmed             Stemmed_Count_NoTrans_BernoulliNB       0.980851   \n",
      "4       Stemmed      Stemmed_Count_NoTrans_LogisticRegression       0.983893   \n",
      "5       Stemmed            Stemmed_Count_NoTrans_RandomForest       0.976759   \n",
      "6       Stemmed                 Stemmed_Tfidf_NMF_BernoulliNB       0.903787   \n",
      "7       Stemmed          Stemmed_Tfidf_NMF_LogisticRegression       0.870119   \n",
      "8       Stemmed                Stemmed_Tfidf_NMF_RandomForest       0.974058   \n",
      "9       Stemmed             Stemmed_Tfidf_NoTrans_BernoulliNB       0.980851   \n",
      "10      Stemmed      Stemmed_Tfidf_NoTrans_LogisticRegression       0.963335   \n",
      "11      Stemmed            Stemmed_Tfidf_NoTrans_RandomForest       0.977728   \n",
      "12   Lemmatized              Lemmatized_Count_NMF_BernoulliNB       0.918126   \n",
      "13   Lemmatized       Lemmatized_Count_NMF_LogisticRegression       0.937455   \n",
      "14   Lemmatized             Lemmatized_Count_NMF_RandomForest       0.975422   \n",
      "15   Lemmatized          Lemmatized_Count_NoTrans_BernoulliNB       0.980555   \n",
      "16   Lemmatized   Lemmatized_Count_NoTrans_LogisticRegression       0.983633   \n",
      "17   Lemmatized         Lemmatized_Count_NoTrans_RandomForest       0.977163   \n",
      "18   Lemmatized              Lemmatized_Tfidf_NMF_BernoulliNB       0.906963   \n",
      "19   Lemmatized       Lemmatized_Tfidf_NMF_LogisticRegression       0.872855   \n",
      "20   Lemmatized             Lemmatized_Tfidf_NMF_RandomForest       0.974731   \n",
      "21   Lemmatized          Lemmatized_Tfidf_NoTrans_BernoulliNB       0.980555   \n",
      "22   Lemmatized   Lemmatized_Tfidf_NoTrans_LogisticRegression       0.962447   \n",
      "23   Lemmatized         Lemmatized_Tfidf_NoTrans_RandomForest       0.978186   \n",
      "24  NoStopwords             NoStopwords_Count_NMF_BernoulliNB       0.914699   \n",
      "25  NoStopwords      NoStopwords_Count_NMF_LogisticRegression       0.925368   \n",
      "26  NoStopwords            NoStopwords_Count_NMF_RandomForest       0.976975   \n",
      "27  NoStopwords         NoStopwords_Count_NoTrans_BernoulliNB       0.978886   \n",
      "28  NoStopwords  NoStopwords_Count_NoTrans_LogisticRegression       0.981802   \n",
      "29  NoStopwords        NoStopwords_Count_NoTrans_RandomForest       0.976221   \n",
      "30  NoStopwords             NoStopwords_Tfidf_NMF_BernoulliNB       0.907251   \n",
      "31  NoStopwords      NoStopwords_Tfidf_NMF_LogisticRegression       0.871689   \n",
      "32  NoStopwords            NoStopwords_Tfidf_NMF_RandomForest       0.973582   \n",
      "33  NoStopwords         NoStopwords_Tfidf_NoTrans_BernoulliNB       0.978886   \n",
      "34  NoStopwords  NoStopwords_Tfidf_NoTrans_LogisticRegression       0.955519   \n",
      "35  NoStopwords        NoStopwords_Tfidf_NoTrans_RandomForest       0.978123   \n",
      "\n",
      "    Std Deviation  \n",
      "0        0.007153  \n",
      "1        0.004738  \n",
      "2        0.004753  \n",
      "3        0.003449  \n",
      "4        0.003765  \n",
      "5        0.003783  \n",
      "6        0.008286  \n",
      "7        0.001720  \n",
      "8        0.003945  \n",
      "9        0.003449  \n",
      "10       0.005068  \n",
      "11       0.003561  \n",
      "12       0.007504  \n",
      "13       0.005049  \n",
      "14       0.004419  \n",
      "15       0.003442  \n",
      "16       0.003475  \n",
      "17       0.003770  \n",
      "18       0.007246  \n",
      "19       0.002098  \n",
      "20       0.004462  \n",
      "21       0.003442  \n",
      "22       0.005106  \n",
      "23       0.003773  \n",
      "24       0.008349  \n",
      "25       0.005488  \n",
      "26       0.004222  \n",
      "27       0.003569  \n",
      "28       0.003776  \n",
      "29       0.004157  \n",
      "30       0.007908  \n",
      "31       0.002206  \n",
      "32       0.004011  \n",
      "33       0.003569  \n",
      "34       0.005087  \n",
      "35       0.004037  \n"
     ]
    },
    {
     "name": "stderr",
     "output_type": "stream",
     "text": [
      "\n"
     ]
    }
   ],
   "source": [
    "# Lista de DataFrames (df_stemmed, df_lemmatized, df_no_stopwords)\n",
    "dataframes = {\n",
    "    'Stemmed': df_stemmed,\n",
    "    'Lemmatized': df_lemmatized,\n",
    "    'NoStopwords': df_no_stopwords\n",
    "}\n",
    "\n",
    "# Lista de vetorizadores (CountVectorizer, TfidfVectorizer)\n",
    "vectorizers = [\n",
    "    CountVectorizer(binary=True),\n",
    "    TfidfVectorizer()\n",
    "]\n",
    "\n",
    "# Lista de transformadores (NMF ou sem transformador)\n",
    "transformers = [\n",
    "    NMF(n_components=25),\n",
    "    None  # Sem transformador\n",
    "]\n",
    "\n",
    "# Lista de classificadores (BernoulliNB, LogisticRegression, RandomForest)\n",
    "classifiers = [\n",
    "    BernoulliNB(),\n",
    "    LogisticRegression(max_iter=1000),\n",
    "    RandomForestClassifier()\n",
    "]\n",
    "\n",
    "# Para armazenar os resultados\n",
    "results = []\n",
    "\n",
    "# Gerar todas as combinações possíveis usando itertools.product\n",
    "combinations = itertools.product(dataframes.items(), vectorizers, transformers, classifiers)\n",
    "\n",
    "# Calcula o total de combinações\n",
    "total_combinations = len(dataframes) * len(vectorizers) * len(transformers) * len(classifiers)\n",
    "\n",
    "# Barra de progresso única\n",
    "with tqdm(total=total_combinations, desc=\"Total Progress\") as pbar:\n",
    "    for (df_name, df), vectorizer, transformer, classifier in combinations:\n",
    "        # Criar uma combinação única de vetorizador, transformador e classificador\n",
    "        vec_name = vectorizer.__class__.__name__.replace('Vectorizer', '')\n",
    "        trans_name = transformer.__class__.__name__ if transformer else 'NoTrans'\n",
    "        clf_name = classifier.__class__.__name__.replace('Classifier', '')\n",
    "        combination_name = f\"{df_name}_{vec_name}_{trans_name}_{clf_name}\"\n",
    "        \n",
    "        # Avaliar o modelo\n",
    "        model, mean_accuracy, std_accuracy = model_evaluation(df, vectorizer, transformer, classifier)\n",
    "        \n",
    "        # Armazenar os resultados\n",
    "        results.append({\n",
    "            'DataFrame': df_name,\n",
    "            'Combination': combination_name,\n",
    "            'Mean Accuracy': mean_accuracy,\n",
    "            'Std Deviation': std_accuracy\n",
    "        })\n",
    "        \n",
    "        # Atualizar a barra de progresso\n",
    "        pbar.update(1)\n",
    "\n",
    "# Exibir os resultados como um DataFrame para análise\n",
    "results_df = pd.DataFrame(results)\n"
   ]
  },
  {
   "cell_type": "code",
   "execution_count": 59,
   "metadata": {},
   "outputs": [
    {
     "data": {
      "text/html": [
       "<div>\n",
       "<style scoped>\n",
       "    .dataframe tbody tr th:only-of-type {\n",
       "        vertical-align: middle;\n",
       "    }\n",
       "\n",
       "    .dataframe tbody tr th {\n",
       "        vertical-align: top;\n",
       "    }\n",
       "\n",
       "    .dataframe thead th {\n",
       "        text-align: right;\n",
       "    }\n",
       "</style>\n",
       "<table border=\"1\" class=\"dataframe\">\n",
       "  <thead>\n",
       "    <tr style=\"text-align: right;\">\n",
       "      <th></th>\n",
       "      <th>DataFrame</th>\n",
       "      <th>Combination</th>\n",
       "      <th>Mean Accuracy</th>\n",
       "      <th>Std Deviation</th>\n",
       "      <th>Abbreviated Combination</th>\n",
       "    </tr>\n",
       "  </thead>\n",
       "  <tbody>\n",
       "    <tr>\n",
       "      <th>0</th>\n",
       "      <td>Stemmed</td>\n",
       "      <td>Stemmed_Count_NMF_BernoulliNB</td>\n",
       "      <td>0.913810</td>\n",
       "      <td>0.007153</td>\n",
       "      <td>Stem_Cnt_NMF_BNB</td>\n",
       "    </tr>\n",
       "    <tr>\n",
       "      <th>1</th>\n",
       "      <td>Stemmed</td>\n",
       "      <td>Stemmed_Count_NMF_LogisticRegression</td>\n",
       "      <td>0.939223</td>\n",
       "      <td>0.004738</td>\n",
       "      <td>Stem_Cnt_NMF_LR</td>\n",
       "    </tr>\n",
       "    <tr>\n",
       "      <th>2</th>\n",
       "      <td>Stemmed</td>\n",
       "      <td>Stemmed_Count_NMF_RandomForest</td>\n",
       "      <td>0.974965</td>\n",
       "      <td>0.004753</td>\n",
       "      <td>Stem_Cnt_NMF_RF</td>\n",
       "    </tr>\n",
       "    <tr>\n",
       "      <th>3</th>\n",
       "      <td>Stemmed</td>\n",
       "      <td>Stemmed_Count_NoTrans_BernoulliNB</td>\n",
       "      <td>0.980851</td>\n",
       "      <td>0.003449</td>\n",
       "      <td>Stem_Cnt_NT_BNB</td>\n",
       "    </tr>\n",
       "    <tr>\n",
       "      <th>4</th>\n",
       "      <td>Stemmed</td>\n",
       "      <td>Stemmed_Count_NoTrans_LogisticRegression</td>\n",
       "      <td>0.983893</td>\n",
       "      <td>0.003765</td>\n",
       "      <td>Stem_Cnt_NT_LR</td>\n",
       "    </tr>\n",
       "    <tr>\n",
       "      <th>5</th>\n",
       "      <td>Stemmed</td>\n",
       "      <td>Stemmed_Count_NoTrans_RandomForest</td>\n",
       "      <td>0.976759</td>\n",
       "      <td>0.003783</td>\n",
       "      <td>Stem_Cnt_NT_RF</td>\n",
       "    </tr>\n",
       "    <tr>\n",
       "      <th>6</th>\n",
       "      <td>Stemmed</td>\n",
       "      <td>Stemmed_Tfidf_NMF_BernoulliNB</td>\n",
       "      <td>0.903787</td>\n",
       "      <td>0.008286</td>\n",
       "      <td>Stem_TF_NMF_BNB</td>\n",
       "    </tr>\n",
       "    <tr>\n",
       "      <th>7</th>\n",
       "      <td>Stemmed</td>\n",
       "      <td>Stemmed_Tfidf_NMF_LogisticRegression</td>\n",
       "      <td>0.870119</td>\n",
       "      <td>0.001720</td>\n",
       "      <td>Stem_TF_NMF_LR</td>\n",
       "    </tr>\n",
       "    <tr>\n",
       "      <th>8</th>\n",
       "      <td>Stemmed</td>\n",
       "      <td>Stemmed_Tfidf_NMF_RandomForest</td>\n",
       "      <td>0.974058</td>\n",
       "      <td>0.003945</td>\n",
       "      <td>Stem_TF_NMF_RF</td>\n",
       "    </tr>\n",
       "    <tr>\n",
       "      <th>9</th>\n",
       "      <td>Stemmed</td>\n",
       "      <td>Stemmed_Tfidf_NoTrans_BernoulliNB</td>\n",
       "      <td>0.980851</td>\n",
       "      <td>0.003449</td>\n",
       "      <td>Stem_TF_NT_BNB</td>\n",
       "    </tr>\n",
       "    <tr>\n",
       "      <th>10</th>\n",
       "      <td>Stemmed</td>\n",
       "      <td>Stemmed_Tfidf_NoTrans_LogisticRegression</td>\n",
       "      <td>0.963335</td>\n",
       "      <td>0.005068</td>\n",
       "      <td>Stem_TF_NT_LR</td>\n",
       "    </tr>\n",
       "    <tr>\n",
       "      <th>11</th>\n",
       "      <td>Stemmed</td>\n",
       "      <td>Stemmed_Tfidf_NoTrans_RandomForest</td>\n",
       "      <td>0.977728</td>\n",
       "      <td>0.003561</td>\n",
       "      <td>Stem_TF_NT_RF</td>\n",
       "    </tr>\n",
       "    <tr>\n",
       "      <th>12</th>\n",
       "      <td>Lemmatized</td>\n",
       "      <td>Lemmatized_Count_NMF_BernoulliNB</td>\n",
       "      <td>0.918126</td>\n",
       "      <td>0.007504</td>\n",
       "      <td>Lem_Cnt_NMF_BNB</td>\n",
       "    </tr>\n",
       "    <tr>\n",
       "      <th>13</th>\n",
       "      <td>Lemmatized</td>\n",
       "      <td>Lemmatized_Count_NMF_LogisticRegression</td>\n",
       "      <td>0.937455</td>\n",
       "      <td>0.005049</td>\n",
       "      <td>Lem_Cnt_NMF_LR</td>\n",
       "    </tr>\n",
       "    <tr>\n",
       "      <th>14</th>\n",
       "      <td>Lemmatized</td>\n",
       "      <td>Lemmatized_Count_NMF_RandomForest</td>\n",
       "      <td>0.975422</td>\n",
       "      <td>0.004419</td>\n",
       "      <td>Lem_Cnt_NMF_RF</td>\n",
       "    </tr>\n",
       "    <tr>\n",
       "      <th>15</th>\n",
       "      <td>Lemmatized</td>\n",
       "      <td>Lemmatized_Count_NoTrans_BernoulliNB</td>\n",
       "      <td>0.980555</td>\n",
       "      <td>0.003442</td>\n",
       "      <td>Lem_Cnt_NT_BNB</td>\n",
       "    </tr>\n",
       "    <tr>\n",
       "      <th>16</th>\n",
       "      <td>Lemmatized</td>\n",
       "      <td>Lemmatized_Count_NoTrans_LogisticRegression</td>\n",
       "      <td>0.983633</td>\n",
       "      <td>0.003475</td>\n",
       "      <td>Lem_Cnt_NT_LR</td>\n",
       "    </tr>\n",
       "    <tr>\n",
       "      <th>17</th>\n",
       "      <td>Lemmatized</td>\n",
       "      <td>Lemmatized_Count_NoTrans_RandomForest</td>\n",
       "      <td>0.977163</td>\n",
       "      <td>0.003770</td>\n",
       "      <td>Lem_Cnt_NT_RF</td>\n",
       "    </tr>\n",
       "    <tr>\n",
       "      <th>18</th>\n",
       "      <td>Lemmatized</td>\n",
       "      <td>Lemmatized_Tfidf_NMF_BernoulliNB</td>\n",
       "      <td>0.906963</td>\n",
       "      <td>0.007246</td>\n",
       "      <td>Lem_TF_NMF_BNB</td>\n",
       "    </tr>\n",
       "    <tr>\n",
       "      <th>19</th>\n",
       "      <td>Lemmatized</td>\n",
       "      <td>Lemmatized_Tfidf_NMF_LogisticRegression</td>\n",
       "      <td>0.872855</td>\n",
       "      <td>0.002098</td>\n",
       "      <td>Lem_TF_NMF_LR</td>\n",
       "    </tr>\n",
       "    <tr>\n",
       "      <th>20</th>\n",
       "      <td>Lemmatized</td>\n",
       "      <td>Lemmatized_Tfidf_NMF_RandomForest</td>\n",
       "      <td>0.974731</td>\n",
       "      <td>0.004462</td>\n",
       "      <td>Lem_TF_NMF_RF</td>\n",
       "    </tr>\n",
       "    <tr>\n",
       "      <th>21</th>\n",
       "      <td>Lemmatized</td>\n",
       "      <td>Lemmatized_Tfidf_NoTrans_BernoulliNB</td>\n",
       "      <td>0.980555</td>\n",
       "      <td>0.003442</td>\n",
       "      <td>Lem_TF_NT_BNB</td>\n",
       "    </tr>\n",
       "    <tr>\n",
       "      <th>22</th>\n",
       "      <td>Lemmatized</td>\n",
       "      <td>Lemmatized_Tfidf_NoTrans_LogisticRegression</td>\n",
       "      <td>0.962447</td>\n",
       "      <td>0.005106</td>\n",
       "      <td>Lem_TF_NT_LR</td>\n",
       "    </tr>\n",
       "    <tr>\n",
       "      <th>23</th>\n",
       "      <td>Lemmatized</td>\n",
       "      <td>Lemmatized_Tfidf_NoTrans_RandomForest</td>\n",
       "      <td>0.978186</td>\n",
       "      <td>0.003773</td>\n",
       "      <td>Lem_TF_NT_RF</td>\n",
       "    </tr>\n",
       "    <tr>\n",
       "      <th>24</th>\n",
       "      <td>NoStopwords</td>\n",
       "      <td>NoStopwords_Count_NMF_BernoulliNB</td>\n",
       "      <td>0.914699</td>\n",
       "      <td>0.008349</td>\n",
       "      <td>NoSW_Cnt_NMF_BNB</td>\n",
       "    </tr>\n",
       "    <tr>\n",
       "      <th>25</th>\n",
       "      <td>NoStopwords</td>\n",
       "      <td>NoStopwords_Count_NMF_LogisticRegression</td>\n",
       "      <td>0.925368</td>\n",
       "      <td>0.005488</td>\n",
       "      <td>NoSW_Cnt_NMF_LR</td>\n",
       "    </tr>\n",
       "    <tr>\n",
       "      <th>26</th>\n",
       "      <td>NoStopwords</td>\n",
       "      <td>NoStopwords_Count_NMF_RandomForest</td>\n",
       "      <td>0.976975</td>\n",
       "      <td>0.004222</td>\n",
       "      <td>NoSW_Cnt_NMF_RF</td>\n",
       "    </tr>\n",
       "    <tr>\n",
       "      <th>27</th>\n",
       "      <td>NoStopwords</td>\n",
       "      <td>NoStopwords_Count_NoTrans_BernoulliNB</td>\n",
       "      <td>0.978886</td>\n",
       "      <td>0.003569</td>\n",
       "      <td>NoSW_Cnt_NT_BNB</td>\n",
       "    </tr>\n",
       "    <tr>\n",
       "      <th>28</th>\n",
       "      <td>NoStopwords</td>\n",
       "      <td>NoStopwords_Count_NoTrans_LogisticRegression</td>\n",
       "      <td>0.981802</td>\n",
       "      <td>0.003776</td>\n",
       "      <td>NoSW_Cnt_NT_LR</td>\n",
       "    </tr>\n",
       "    <tr>\n",
       "      <th>29</th>\n",
       "      <td>NoStopwords</td>\n",
       "      <td>NoStopwords_Count_NoTrans_RandomForest</td>\n",
       "      <td>0.976221</td>\n",
       "      <td>0.004157</td>\n",
       "      <td>NoSW_Cnt_NT_RF</td>\n",
       "    </tr>\n",
       "    <tr>\n",
       "      <th>30</th>\n",
       "      <td>NoStopwords</td>\n",
       "      <td>NoStopwords_Tfidf_NMF_BernoulliNB</td>\n",
       "      <td>0.907251</td>\n",
       "      <td>0.007908</td>\n",
       "      <td>NoSW_TF_NMF_BNB</td>\n",
       "    </tr>\n",
       "    <tr>\n",
       "      <th>31</th>\n",
       "      <td>NoStopwords</td>\n",
       "      <td>NoStopwords_Tfidf_NMF_LogisticRegression</td>\n",
       "      <td>0.871689</td>\n",
       "      <td>0.002206</td>\n",
       "      <td>NoSW_TF_NMF_LR</td>\n",
       "    </tr>\n",
       "    <tr>\n",
       "      <th>32</th>\n",
       "      <td>NoStopwords</td>\n",
       "      <td>NoStopwords_Tfidf_NMF_RandomForest</td>\n",
       "      <td>0.973582</td>\n",
       "      <td>0.004011</td>\n",
       "      <td>NoSW_TF_NMF_RF</td>\n",
       "    </tr>\n",
       "    <tr>\n",
       "      <th>33</th>\n",
       "      <td>NoStopwords</td>\n",
       "      <td>NoStopwords_Tfidf_NoTrans_BernoulliNB</td>\n",
       "      <td>0.978886</td>\n",
       "      <td>0.003569</td>\n",
       "      <td>NoSW_TF_NT_BNB</td>\n",
       "    </tr>\n",
       "    <tr>\n",
       "      <th>34</th>\n",
       "      <td>NoStopwords</td>\n",
       "      <td>NoStopwords_Tfidf_NoTrans_LogisticRegression</td>\n",
       "      <td>0.955519</td>\n",
       "      <td>0.005087</td>\n",
       "      <td>NoSW_TF_NT_LR</td>\n",
       "    </tr>\n",
       "    <tr>\n",
       "      <th>35</th>\n",
       "      <td>NoStopwords</td>\n",
       "      <td>NoStopwords_Tfidf_NoTrans_RandomForest</td>\n",
       "      <td>0.978123</td>\n",
       "      <td>0.004037</td>\n",
       "      <td>NoSW_TF_NT_RF</td>\n",
       "    </tr>\n",
       "  </tbody>\n",
       "</table>\n",
       "</div>"
      ],
      "text/plain": [
       "      DataFrame                                   Combination  Mean Accuracy  \\\n",
       "0       Stemmed                 Stemmed_Count_NMF_BernoulliNB       0.913810   \n",
       "1       Stemmed          Stemmed_Count_NMF_LogisticRegression       0.939223   \n",
       "2       Stemmed                Stemmed_Count_NMF_RandomForest       0.974965   \n",
       "3       Stemmed             Stemmed_Count_NoTrans_BernoulliNB       0.980851   \n",
       "4       Stemmed      Stemmed_Count_NoTrans_LogisticRegression       0.983893   \n",
       "5       Stemmed            Stemmed_Count_NoTrans_RandomForest       0.976759   \n",
       "6       Stemmed                 Stemmed_Tfidf_NMF_BernoulliNB       0.903787   \n",
       "7       Stemmed          Stemmed_Tfidf_NMF_LogisticRegression       0.870119   \n",
       "8       Stemmed                Stemmed_Tfidf_NMF_RandomForest       0.974058   \n",
       "9       Stemmed             Stemmed_Tfidf_NoTrans_BernoulliNB       0.980851   \n",
       "10      Stemmed      Stemmed_Tfidf_NoTrans_LogisticRegression       0.963335   \n",
       "11      Stemmed            Stemmed_Tfidf_NoTrans_RandomForest       0.977728   \n",
       "12   Lemmatized              Lemmatized_Count_NMF_BernoulliNB       0.918126   \n",
       "13   Lemmatized       Lemmatized_Count_NMF_LogisticRegression       0.937455   \n",
       "14   Lemmatized             Lemmatized_Count_NMF_RandomForest       0.975422   \n",
       "15   Lemmatized          Lemmatized_Count_NoTrans_BernoulliNB       0.980555   \n",
       "16   Lemmatized   Lemmatized_Count_NoTrans_LogisticRegression       0.983633   \n",
       "17   Lemmatized         Lemmatized_Count_NoTrans_RandomForest       0.977163   \n",
       "18   Lemmatized              Lemmatized_Tfidf_NMF_BernoulliNB       0.906963   \n",
       "19   Lemmatized       Lemmatized_Tfidf_NMF_LogisticRegression       0.872855   \n",
       "20   Lemmatized             Lemmatized_Tfidf_NMF_RandomForest       0.974731   \n",
       "21   Lemmatized          Lemmatized_Tfidf_NoTrans_BernoulliNB       0.980555   \n",
       "22   Lemmatized   Lemmatized_Tfidf_NoTrans_LogisticRegression       0.962447   \n",
       "23   Lemmatized         Lemmatized_Tfidf_NoTrans_RandomForest       0.978186   \n",
       "24  NoStopwords             NoStopwords_Count_NMF_BernoulliNB       0.914699   \n",
       "25  NoStopwords      NoStopwords_Count_NMF_LogisticRegression       0.925368   \n",
       "26  NoStopwords            NoStopwords_Count_NMF_RandomForest       0.976975   \n",
       "27  NoStopwords         NoStopwords_Count_NoTrans_BernoulliNB       0.978886   \n",
       "28  NoStopwords  NoStopwords_Count_NoTrans_LogisticRegression       0.981802   \n",
       "29  NoStopwords        NoStopwords_Count_NoTrans_RandomForest       0.976221   \n",
       "30  NoStopwords             NoStopwords_Tfidf_NMF_BernoulliNB       0.907251   \n",
       "31  NoStopwords      NoStopwords_Tfidf_NMF_LogisticRegression       0.871689   \n",
       "32  NoStopwords            NoStopwords_Tfidf_NMF_RandomForest       0.973582   \n",
       "33  NoStopwords         NoStopwords_Tfidf_NoTrans_BernoulliNB       0.978886   \n",
       "34  NoStopwords  NoStopwords_Tfidf_NoTrans_LogisticRegression       0.955519   \n",
       "35  NoStopwords        NoStopwords_Tfidf_NoTrans_RandomForest       0.978123   \n",
       "\n",
       "    Std Deviation Abbreviated Combination  \n",
       "0        0.007153        Stem_Cnt_NMF_BNB  \n",
       "1        0.004738         Stem_Cnt_NMF_LR  \n",
       "2        0.004753         Stem_Cnt_NMF_RF  \n",
       "3        0.003449         Stem_Cnt_NT_BNB  \n",
       "4        0.003765          Stem_Cnt_NT_LR  \n",
       "5        0.003783          Stem_Cnt_NT_RF  \n",
       "6        0.008286         Stem_TF_NMF_BNB  \n",
       "7        0.001720          Stem_TF_NMF_LR  \n",
       "8        0.003945          Stem_TF_NMF_RF  \n",
       "9        0.003449          Stem_TF_NT_BNB  \n",
       "10       0.005068           Stem_TF_NT_LR  \n",
       "11       0.003561           Stem_TF_NT_RF  \n",
       "12       0.007504         Lem_Cnt_NMF_BNB  \n",
       "13       0.005049          Lem_Cnt_NMF_LR  \n",
       "14       0.004419          Lem_Cnt_NMF_RF  \n",
       "15       0.003442          Lem_Cnt_NT_BNB  \n",
       "16       0.003475           Lem_Cnt_NT_LR  \n",
       "17       0.003770           Lem_Cnt_NT_RF  \n",
       "18       0.007246          Lem_TF_NMF_BNB  \n",
       "19       0.002098           Lem_TF_NMF_LR  \n",
       "20       0.004462           Lem_TF_NMF_RF  \n",
       "21       0.003442           Lem_TF_NT_BNB  \n",
       "22       0.005106            Lem_TF_NT_LR  \n",
       "23       0.003773            Lem_TF_NT_RF  \n",
       "24       0.008349        NoSW_Cnt_NMF_BNB  \n",
       "25       0.005488         NoSW_Cnt_NMF_LR  \n",
       "26       0.004222         NoSW_Cnt_NMF_RF  \n",
       "27       0.003569         NoSW_Cnt_NT_BNB  \n",
       "28       0.003776          NoSW_Cnt_NT_LR  \n",
       "29       0.004157          NoSW_Cnt_NT_RF  \n",
       "30       0.007908         NoSW_TF_NMF_BNB  \n",
       "31       0.002206          NoSW_TF_NMF_LR  \n",
       "32       0.004011          NoSW_TF_NMF_RF  \n",
       "33       0.003569          NoSW_TF_NT_BNB  \n",
       "34       0.005087           NoSW_TF_NT_LR  \n",
       "35       0.004037           NoSW_TF_NT_RF  "
      ]
     },
     "execution_count": 59,
     "metadata": {},
     "output_type": "execute_result"
    }
   ],
   "source": [
    "results_df['Abbreviated Combination'] = results_df['Combination'].replace({\n",
    "    'Stemmed_Count_NMF_BernoulliNB': 'Stem_Cnt_NMF_BNB',\n",
    "    'Stemmed_Count_NMF_LogisticRegression': 'Stem_Cnt_NMF_LR',\n",
    "    'Stemmed_Count_NMF_RandomForest': 'Stem_Cnt_NMF_RF',\n",
    "    'Stemmed_Count_NoTrans_BernoulliNB': 'Stem_Cnt_NT_BNB',\n",
    "    'Stemmed_Count_NoTrans_LogisticRegression': 'Stem_Cnt_NT_LR',\n",
    "    'Stemmed_Count_NoTrans_RandomForest': 'Stem_Cnt_NT_RF',\n",
    "    'Stemmed_Tfidf_NMF_BernoulliNB': 'Stem_TF_NMF_BNB',\n",
    "    'Stemmed_Tfidf_NMF_LogisticRegression': 'Stem_TF_NMF_LR',\n",
    "    'Stemmed_Tfidf_NMF_RandomForest': 'Stem_TF_NMF_RF',\n",
    "    'Stemmed_Tfidf_NoTrans_BernoulliNB': 'Stem_TF_NT_BNB',\n",
    "    'Stemmed_Tfidf_NoTrans_LogisticRegression': 'Stem_TF_NT_LR',\n",
    "    'Stemmed_Tfidf_NoTrans_RandomForest': 'Stem_TF_NT_RF',\n",
    "    'Lemmatized_Count_NMF_BernoulliNB': 'Lem_Cnt_NMF_BNB',\n",
    "    'Lemmatized_Count_NMF_LogisticRegression': 'Lem_Cnt_NMF_LR',\n",
    "    'Lemmatized_Count_NMF_RandomForest': 'Lem_Cnt_NMF_RF',\n",
    "    'Lemmatized_Count_NoTrans_BernoulliNB': 'Lem_Cnt_NT_BNB',\n",
    "    'Lemmatized_Count_NoTrans_LogisticRegression': 'Lem_Cnt_NT_LR',\n",
    "    'Lemmatized_Count_NoTrans_RandomForest': 'Lem_Cnt_NT_RF',\n",
    "    'Lemmatized_Tfidf_NMF_BernoulliNB': 'Lem_TF_NMF_BNB',\n",
    "    'Lemmatized_Tfidf_NMF_LogisticRegression': 'Lem_TF_NMF_LR',\n",
    "    'Lemmatized_Tfidf_NMF_RandomForest': 'Lem_TF_NMF_RF',\n",
    "    'Lemmatized_Tfidf_NoTrans_BernoulliNB': 'Lem_TF_NT_BNB',\n",
    "    'Lemmatized_Tfidf_NoTrans_LogisticRegression': 'Lem_TF_NT_LR',\n",
    "    'Lemmatized_Tfidf_NoTrans_RandomForest': 'Lem_TF_NT_RF',\n",
    "    'NoStopwords_Count_NMF_BernoulliNB': 'NoSW_Cnt_NMF_BNB',\n",
    "    'NoStopwords_Count_NMF_LogisticRegression': 'NoSW_Cnt_NMF_LR',\n",
    "    'NoStopwords_Count_NMF_RandomForest': 'NoSW_Cnt_NMF_RF',\n",
    "    'NoStopwords_Count_NoTrans_BernoulliNB': 'NoSW_Cnt_NT_BNB',\n",
    "    'NoStopwords_Count_NoTrans_LogisticRegression': 'NoSW_Cnt_NT_LR',\n",
    "    'NoStopwords_Count_NoTrans_RandomForest': 'NoSW_Cnt_NT_RF',\n",
    "    'NoStopwords_Tfidf_NMF_BernoulliNB': 'NoSW_TF_NMF_BNB',\n",
    "    'NoStopwords_Tfidf_NMF_LogisticRegression': 'NoSW_TF_NMF_LR',\n",
    "    'NoStopwords_Tfidf_NMF_RandomForest': 'NoSW_TF_NMF_RF',\n",
    "    'NoStopwords_Tfidf_NoTrans_BernoulliNB': 'NoSW_TF_NT_BNB',\n",
    "    'NoStopwords_Tfidf_NoTrans_LogisticRegression': 'NoSW_TF_NT_LR',\n",
    "    'NoStopwords_Tfidf_NoTrans_RandomForest': 'NoSW_TF_NT_RF'\n",
    "})\n",
    "\n",
    "results_df"
   ]
  },
  {
   "cell_type": "code",
   "execution_count": 53,
   "metadata": {},
   "outputs": [
    {
     "data": {
      "application/vnd.plotly.v1+json": {
       "config": {
        "plotlyServerURL": "https://plot.ly"
       },
       "data": [
        {
         "marker": {
          "color": [
           0.9138103710621442,
           0.9392228868618722,
           0.9749646488636273,
           0.9808508908228738,
           0.9838928999847034,
           0.9767590793085958,
           0.9037865970002656,
           0.8701186126832566,
           0.974058247659225,
           0.9808508908228738,
           0.9633349864343737,
           0.9777282527312395,
           0.9181263092640748,
           0.9374553541956832,
           0.9754219433061485,
           0.9805547737317952,
           0.9836326895363533,
           0.9771628921754112,
           0.9069632802247789,
           0.8728554958900583,
           0.9747311832285384,
           0.9805547737317952,
           0.9624465546529692,
           0.9781858611556143,
           0.9146988028435485,
           0.9253677935126519,
           0.9769745594190531,
           0.9788856703512571,
           0.9818021994831375,
           0.9762205923790969,
           0.9072510405680657,
           0.8716889405930229,
           0.973582323626732,
           0.9788856703512571,
           0.9555187624284485,
           0.9781229198702208
          ],
          "colorscale": [
           [
            0,
            "#440154"
           ],
           [
            0.1111111111111111,
            "#482878"
           ],
           [
            0.2222222222222222,
            "#3e4989"
           ],
           [
            0.3333333333333333,
            "#31688e"
           ],
           [
            0.4444444444444444,
            "#26828e"
           ],
           [
            0.5555555555555556,
            "#1f9e89"
           ],
           [
            0.6666666666666666,
            "#35b779"
           ],
           [
            0.7777777777777778,
            "#6ece58"
           ],
           [
            0.8888888888888888,
            "#b5de2b"
           ],
           [
            1,
            "#fde725"
           ]
          ]
         },
         "text": [
          0.914,
          0.939,
          0.975,
          0.981,
          0.984,
          0.977,
          0.904,
          0.87,
          0.974,
          0.981,
          0.963,
          0.978,
          0.918,
          0.937,
          0.975,
          0.981,
          0.984,
          0.977,
          0.907,
          0.873,
          0.975,
          0.981,
          0.962,
          0.978,
          0.915,
          0.925,
          0.977,
          0.979,
          0.982,
          0.976,
          0.907,
          0.872,
          0.974,
          0.979,
          0.956,
          0.978
         ],
         "textposition": "auto",
         "type": "bar",
         "x": [
          "Stem_Cnt_NMF_BNB",
          "Stem_Cnt_NMF_LR",
          "Stem_Cnt_NMF_RF",
          "Stem_Cnt_NT_BNB",
          "Stem_Cnt_NT_LR",
          "Stem_Cnt_NT_RF",
          "Stem_TF_NMF_BNB",
          "Stem_TF_NMF_LR",
          "Stem_TF_NMF_RF",
          "Stem_TF_NT_BNB",
          "Stem_TF_NT_LR",
          "Stem_TF_NT_RF",
          "Lem_Cnt_NMF_BNB",
          "Lem_Cnt_NMF_LR",
          "Lem_Cnt_NMF_RF",
          "Lem_Cnt_NT_BNB",
          "Lem_Cnt_NT_LR",
          "Lem_Cnt_NT_RF",
          "Lem_TF_NMF_BNB",
          "Lem_TF_NMF_LR",
          "Lem_TF_NMF_RF",
          "Lem_TF_NT_BNB",
          "Lem_TF_NT_LR",
          "Lem_TF_NT_RF",
          "NoSW_Cnt_NMF_BNB",
          "NoSW_Cnt_NMF_LR",
          "NoSW_Cnt_NMF_RF",
          "NoSW_Cnt_NT_BNB",
          "NoSW_Cnt_NT_LR",
          "NoSW_Cnt_NT_RF",
          "NoSW_TF_NMF_BNB",
          "NoSW_TF_NMF_LR",
          "NoSW_TF_NMF_RF",
          "NoSW_TF_NT_BNB",
          "NoSW_TF_NT_LR",
          "NoSW_TF_NT_RF"
         ],
         "y": [
          0.9138103710621442,
          0.9392228868618722,
          0.9749646488636273,
          0.9808508908228738,
          0.9838928999847034,
          0.9767590793085958,
          0.9037865970002656,
          0.8701186126832566,
          0.974058247659225,
          0.9808508908228738,
          0.9633349864343737,
          0.9777282527312395,
          0.9181263092640748,
          0.9374553541956832,
          0.9754219433061485,
          0.9805547737317952,
          0.9836326895363533,
          0.9771628921754112,
          0.9069632802247789,
          0.8728554958900583,
          0.9747311832285384,
          0.9805547737317952,
          0.9624465546529692,
          0.9781858611556143,
          0.9146988028435485,
          0.9253677935126519,
          0.9769745594190531,
          0.9788856703512571,
          0.9818021994831375,
          0.9762205923790969,
          0.9072510405680657,
          0.8716889405930229,
          0.973582323626732,
          0.9788856703512571,
          0.9555187624284485,
          0.9781229198702208
         ]
        }
       ],
       "layout": {
        "bargap": 0.2,
        "height": 600,
        "template": {
         "data": {
          "bar": [
           {
            "error_x": {
             "color": "#2a3f5f"
            },
            "error_y": {
             "color": "#2a3f5f"
            },
            "marker": {
             "line": {
              "color": "#E5ECF6",
              "width": 0.5
             },
             "pattern": {
              "fillmode": "overlay",
              "size": 10,
              "solidity": 0.2
             }
            },
            "type": "bar"
           }
          ],
          "barpolar": [
           {
            "marker": {
             "line": {
              "color": "#E5ECF6",
              "width": 0.5
             },
             "pattern": {
              "fillmode": "overlay",
              "size": 10,
              "solidity": 0.2
             }
            },
            "type": "barpolar"
           }
          ],
          "carpet": [
           {
            "aaxis": {
             "endlinecolor": "#2a3f5f",
             "gridcolor": "white",
             "linecolor": "white",
             "minorgridcolor": "white",
             "startlinecolor": "#2a3f5f"
            },
            "baxis": {
             "endlinecolor": "#2a3f5f",
             "gridcolor": "white",
             "linecolor": "white",
             "minorgridcolor": "white",
             "startlinecolor": "#2a3f5f"
            },
            "type": "carpet"
           }
          ],
          "choropleth": [
           {
            "colorbar": {
             "outlinewidth": 0,
             "ticks": ""
            },
            "type": "choropleth"
           }
          ],
          "contour": [
           {
            "colorbar": {
             "outlinewidth": 0,
             "ticks": ""
            },
            "colorscale": [
             [
              0,
              "#0d0887"
             ],
             [
              0.1111111111111111,
              "#46039f"
             ],
             [
              0.2222222222222222,
              "#7201a8"
             ],
             [
              0.3333333333333333,
              "#9c179e"
             ],
             [
              0.4444444444444444,
              "#bd3786"
             ],
             [
              0.5555555555555556,
              "#d8576b"
             ],
             [
              0.6666666666666666,
              "#ed7953"
             ],
             [
              0.7777777777777778,
              "#fb9f3a"
             ],
             [
              0.8888888888888888,
              "#fdca26"
             ],
             [
              1,
              "#f0f921"
             ]
            ],
            "type": "contour"
           }
          ],
          "contourcarpet": [
           {
            "colorbar": {
             "outlinewidth": 0,
             "ticks": ""
            },
            "type": "contourcarpet"
           }
          ],
          "heatmap": [
           {
            "colorbar": {
             "outlinewidth": 0,
             "ticks": ""
            },
            "colorscale": [
             [
              0,
              "#0d0887"
             ],
             [
              0.1111111111111111,
              "#46039f"
             ],
             [
              0.2222222222222222,
              "#7201a8"
             ],
             [
              0.3333333333333333,
              "#9c179e"
             ],
             [
              0.4444444444444444,
              "#bd3786"
             ],
             [
              0.5555555555555556,
              "#d8576b"
             ],
             [
              0.6666666666666666,
              "#ed7953"
             ],
             [
              0.7777777777777778,
              "#fb9f3a"
             ],
             [
              0.8888888888888888,
              "#fdca26"
             ],
             [
              1,
              "#f0f921"
             ]
            ],
            "type": "heatmap"
           }
          ],
          "heatmapgl": [
           {
            "colorbar": {
             "outlinewidth": 0,
             "ticks": ""
            },
            "colorscale": [
             [
              0,
              "#0d0887"
             ],
             [
              0.1111111111111111,
              "#46039f"
             ],
             [
              0.2222222222222222,
              "#7201a8"
             ],
             [
              0.3333333333333333,
              "#9c179e"
             ],
             [
              0.4444444444444444,
              "#bd3786"
             ],
             [
              0.5555555555555556,
              "#d8576b"
             ],
             [
              0.6666666666666666,
              "#ed7953"
             ],
             [
              0.7777777777777778,
              "#fb9f3a"
             ],
             [
              0.8888888888888888,
              "#fdca26"
             ],
             [
              1,
              "#f0f921"
             ]
            ],
            "type": "heatmapgl"
           }
          ],
          "histogram": [
           {
            "marker": {
             "pattern": {
              "fillmode": "overlay",
              "size": 10,
              "solidity": 0.2
             }
            },
            "type": "histogram"
           }
          ],
          "histogram2d": [
           {
            "colorbar": {
             "outlinewidth": 0,
             "ticks": ""
            },
            "colorscale": [
             [
              0,
              "#0d0887"
             ],
             [
              0.1111111111111111,
              "#46039f"
             ],
             [
              0.2222222222222222,
              "#7201a8"
             ],
             [
              0.3333333333333333,
              "#9c179e"
             ],
             [
              0.4444444444444444,
              "#bd3786"
             ],
             [
              0.5555555555555556,
              "#d8576b"
             ],
             [
              0.6666666666666666,
              "#ed7953"
             ],
             [
              0.7777777777777778,
              "#fb9f3a"
             ],
             [
              0.8888888888888888,
              "#fdca26"
             ],
             [
              1,
              "#f0f921"
             ]
            ],
            "type": "histogram2d"
           }
          ],
          "histogram2dcontour": [
           {
            "colorbar": {
             "outlinewidth": 0,
             "ticks": ""
            },
            "colorscale": [
             [
              0,
              "#0d0887"
             ],
             [
              0.1111111111111111,
              "#46039f"
             ],
             [
              0.2222222222222222,
              "#7201a8"
             ],
             [
              0.3333333333333333,
              "#9c179e"
             ],
             [
              0.4444444444444444,
              "#bd3786"
             ],
             [
              0.5555555555555556,
              "#d8576b"
             ],
             [
              0.6666666666666666,
              "#ed7953"
             ],
             [
              0.7777777777777778,
              "#fb9f3a"
             ],
             [
              0.8888888888888888,
              "#fdca26"
             ],
             [
              1,
              "#f0f921"
             ]
            ],
            "type": "histogram2dcontour"
           }
          ],
          "mesh3d": [
           {
            "colorbar": {
             "outlinewidth": 0,
             "ticks": ""
            },
            "type": "mesh3d"
           }
          ],
          "parcoords": [
           {
            "line": {
             "colorbar": {
              "outlinewidth": 0,
              "ticks": ""
             }
            },
            "type": "parcoords"
           }
          ],
          "pie": [
           {
            "automargin": true,
            "type": "pie"
           }
          ],
          "scatter": [
           {
            "fillpattern": {
             "fillmode": "overlay",
             "size": 10,
             "solidity": 0.2
            },
            "type": "scatter"
           }
          ],
          "scatter3d": [
           {
            "line": {
             "colorbar": {
              "outlinewidth": 0,
              "ticks": ""
             }
            },
            "marker": {
             "colorbar": {
              "outlinewidth": 0,
              "ticks": ""
             }
            },
            "type": "scatter3d"
           }
          ],
          "scattercarpet": [
           {
            "marker": {
             "colorbar": {
              "outlinewidth": 0,
              "ticks": ""
             }
            },
            "type": "scattercarpet"
           }
          ],
          "scattergeo": [
           {
            "marker": {
             "colorbar": {
              "outlinewidth": 0,
              "ticks": ""
             }
            },
            "type": "scattergeo"
           }
          ],
          "scattergl": [
           {
            "marker": {
             "colorbar": {
              "outlinewidth": 0,
              "ticks": ""
             }
            },
            "type": "scattergl"
           }
          ],
          "scattermapbox": [
           {
            "marker": {
             "colorbar": {
              "outlinewidth": 0,
              "ticks": ""
             }
            },
            "type": "scattermapbox"
           }
          ],
          "scatterpolar": [
           {
            "marker": {
             "colorbar": {
              "outlinewidth": 0,
              "ticks": ""
             }
            },
            "type": "scatterpolar"
           }
          ],
          "scatterpolargl": [
           {
            "marker": {
             "colorbar": {
              "outlinewidth": 0,
              "ticks": ""
             }
            },
            "type": "scatterpolargl"
           }
          ],
          "scatterternary": [
           {
            "marker": {
             "colorbar": {
              "outlinewidth": 0,
              "ticks": ""
             }
            },
            "type": "scatterternary"
           }
          ],
          "surface": [
           {
            "colorbar": {
             "outlinewidth": 0,
             "ticks": ""
            },
            "colorscale": [
             [
              0,
              "#0d0887"
             ],
             [
              0.1111111111111111,
              "#46039f"
             ],
             [
              0.2222222222222222,
              "#7201a8"
             ],
             [
              0.3333333333333333,
              "#9c179e"
             ],
             [
              0.4444444444444444,
              "#bd3786"
             ],
             [
              0.5555555555555556,
              "#d8576b"
             ],
             [
              0.6666666666666666,
              "#ed7953"
             ],
             [
              0.7777777777777778,
              "#fb9f3a"
             ],
             [
              0.8888888888888888,
              "#fdca26"
             ],
             [
              1,
              "#f0f921"
             ]
            ],
            "type": "surface"
           }
          ],
          "table": [
           {
            "cells": {
             "fill": {
              "color": "#EBF0F8"
             },
             "line": {
              "color": "white"
             }
            },
            "header": {
             "fill": {
              "color": "#C8D4E3"
             },
             "line": {
              "color": "white"
             }
            },
            "type": "table"
           }
          ]
         },
         "layout": {
          "annotationdefaults": {
           "arrowcolor": "#2a3f5f",
           "arrowhead": 0,
           "arrowwidth": 1
          },
          "autotypenumbers": "strict",
          "coloraxis": {
           "colorbar": {
            "outlinewidth": 0,
            "ticks": ""
           }
          },
          "colorscale": {
           "diverging": [
            [
             0,
             "#8e0152"
            ],
            [
             0.1,
             "#c51b7d"
            ],
            [
             0.2,
             "#de77ae"
            ],
            [
             0.3,
             "#f1b6da"
            ],
            [
             0.4,
             "#fde0ef"
            ],
            [
             0.5,
             "#f7f7f7"
            ],
            [
             0.6,
             "#e6f5d0"
            ],
            [
             0.7,
             "#b8e186"
            ],
            [
             0.8,
             "#7fbc41"
            ],
            [
             0.9,
             "#4d9221"
            ],
            [
             1,
             "#276419"
            ]
           ],
           "sequential": [
            [
             0,
             "#0d0887"
            ],
            [
             0.1111111111111111,
             "#46039f"
            ],
            [
             0.2222222222222222,
             "#7201a8"
            ],
            [
             0.3333333333333333,
             "#9c179e"
            ],
            [
             0.4444444444444444,
             "#bd3786"
            ],
            [
             0.5555555555555556,
             "#d8576b"
            ],
            [
             0.6666666666666666,
             "#ed7953"
            ],
            [
             0.7777777777777778,
             "#fb9f3a"
            ],
            [
             0.8888888888888888,
             "#fdca26"
            ],
            [
             1,
             "#f0f921"
            ]
           ],
           "sequentialminus": [
            [
             0,
             "#0d0887"
            ],
            [
             0.1111111111111111,
             "#46039f"
            ],
            [
             0.2222222222222222,
             "#7201a8"
            ],
            [
             0.3333333333333333,
             "#9c179e"
            ],
            [
             0.4444444444444444,
             "#bd3786"
            ],
            [
             0.5555555555555556,
             "#d8576b"
            ],
            [
             0.6666666666666666,
             "#ed7953"
            ],
            [
             0.7777777777777778,
             "#fb9f3a"
            ],
            [
             0.8888888888888888,
             "#fdca26"
            ],
            [
             1,
             "#f0f921"
            ]
           ]
          },
          "colorway": [
           "#636efa",
           "#EF553B",
           "#00cc96",
           "#ab63fa",
           "#FFA15A",
           "#19d3f3",
           "#FF6692",
           "#B6E880",
           "#FF97FF",
           "#FECB52"
          ],
          "font": {
           "color": "#2a3f5f"
          },
          "geo": {
           "bgcolor": "white",
           "lakecolor": "white",
           "landcolor": "#E5ECF6",
           "showlakes": true,
           "showland": true,
           "subunitcolor": "white"
          },
          "hoverlabel": {
           "align": "left"
          },
          "hovermode": "closest",
          "mapbox": {
           "style": "light"
          },
          "paper_bgcolor": "white",
          "plot_bgcolor": "#E5ECF6",
          "polar": {
           "angularaxis": {
            "gridcolor": "white",
            "linecolor": "white",
            "ticks": ""
           },
           "bgcolor": "#E5ECF6",
           "radialaxis": {
            "gridcolor": "white",
            "linecolor": "white",
            "ticks": ""
           }
          },
          "scene": {
           "xaxis": {
            "backgroundcolor": "#E5ECF6",
            "gridcolor": "white",
            "gridwidth": 2,
            "linecolor": "white",
            "showbackground": true,
            "ticks": "",
            "zerolinecolor": "white"
           },
           "yaxis": {
            "backgroundcolor": "#E5ECF6",
            "gridcolor": "white",
            "gridwidth": 2,
            "linecolor": "white",
            "showbackground": true,
            "ticks": "",
            "zerolinecolor": "white"
           },
           "zaxis": {
            "backgroundcolor": "#E5ECF6",
            "gridcolor": "white",
            "gridwidth": 2,
            "linecolor": "white",
            "showbackground": true,
            "ticks": "",
            "zerolinecolor": "white"
           }
          },
          "shapedefaults": {
           "line": {
            "color": "#2a3f5f"
           }
          },
          "ternary": {
           "aaxis": {
            "gridcolor": "white",
            "linecolor": "white",
            "ticks": ""
           },
           "baxis": {
            "gridcolor": "white",
            "linecolor": "white",
            "ticks": ""
           },
           "bgcolor": "#E5ECF6",
           "caxis": {
            "gridcolor": "white",
            "linecolor": "white",
            "ticks": ""
           }
          },
          "title": {
           "x": 0.05
          },
          "xaxis": {
           "automargin": true,
           "gridcolor": "white",
           "linecolor": "white",
           "ticks": "",
           "title": {
            "standoff": 15
           },
           "zerolinecolor": "white",
           "zerolinewidth": 2
          },
          "yaxis": {
           "automargin": true,
           "gridcolor": "white",
           "linecolor": "white",
           "ticks": "",
           "title": {
            "standoff": 15
           },
           "zerolinecolor": "white",
           "zerolinewidth": 2
          }
         }
        },
        "title": {
         "text": "Mean Accuracy of Model Combinations"
        },
        "width": 1000,
        "xaxis": {
         "tickangle": -45,
         "title": {
          "text": "Model Combination"
         }
        },
        "yaxis": {
         "title": {
          "text": "Mean Accuracy"
         }
        }
       }
      }
     },
     "metadata": {},
     "output_type": "display_data"
    }
   ],
   "source": [
    "# Criar o gráfico de barras com Plotly\n",
    "fig = go.Figure()\n",
    "\n",
    "fig.add_trace(go.Bar(\n",
    "    x=results_df['Abbreviated Combination'],\n",
    "    y=results_df['Mean Accuracy'],\n",
    "    text=results_df['Mean Accuracy'].round(3),  # Exibir os valores arredondados\n",
    "    textposition='auto',  # Posição automática do texto\n",
    "    marker=dict(color=results_df['Mean Accuracy'], colorscale='Viridis'),  # Cores baseadas na acurácia\n",
    "))\n",
    "\n",
    "# Atualizar layout do gráfico\n",
    "fig.update_layout(\n",
    "    title='Mean Accuracy of Model Combinations',\n",
    "    xaxis_title='Model Combination',\n",
    "    yaxis_title='Mean Accuracy',\n",
    "    xaxis_tickangle=-45,  # Rotacionar os rótulos em 45 graus\n",
    "    bargap=0.2,  # Espaço entre as barras\n",
    "    height=600,  # Altura do gráfico\n",
    "    width=1000,  # Largura do gráfico\n",
    ")\n",
    "\n",
    "# Exibir o gráfico\n",
    "fig.show()\n"
   ]
  },
  {
   "cell_type": "code",
   "execution_count": 54,
   "metadata": {},
   "outputs": [
    {
     "data": {
      "application/vnd.plotly.v1+json": {
       "config": {
        "plotlyServerURL": "https://plot.ly"
       },
       "data": [
        {
         "coloraxis": "coloraxis",
         "hovertemplate": "DataFrame: %{x}<br>Abbreviated Combination: %{y}<br>Mean Accuracy: %{z}<extra></extra>",
         "name": "0",
         "type": "heatmap",
         "x": [
          "Lemmatized",
          "NoStopwords",
          "Stemmed"
         ],
         "xaxis": "x",
         "y": [
          "Lem_Cnt_NMF_BNB",
          "Lem_Cnt_NMF_LR",
          "Lem_Cnt_NMF_RF",
          "Lem_Cnt_NT_BNB",
          "Lem_Cnt_NT_LR",
          "Lem_Cnt_NT_RF",
          "Lem_TF_NMF_BNB",
          "Lem_TF_NMF_LR",
          "Lem_TF_NMF_RF",
          "Lem_TF_NT_BNB",
          "Lem_TF_NT_LR",
          "Lem_TF_NT_RF",
          "NoSW_Cnt_NMF_BNB",
          "NoSW_Cnt_NMF_LR",
          "NoSW_Cnt_NMF_RF",
          "NoSW_Cnt_NT_BNB",
          "NoSW_Cnt_NT_LR",
          "NoSW_Cnt_NT_RF",
          "NoSW_TF_NMF_BNB",
          "NoSW_TF_NMF_LR",
          "NoSW_TF_NMF_RF",
          "NoSW_TF_NT_BNB",
          "NoSW_TF_NT_LR",
          "NoSW_TF_NT_RF",
          "Stem_Cnt_NMF_BNB",
          "Stem_Cnt_NMF_LR",
          "Stem_Cnt_NMF_RF",
          "Stem_Cnt_NT_BNB",
          "Stem_Cnt_NT_LR",
          "Stem_Cnt_NT_RF",
          "Stem_TF_NMF_BNB",
          "Stem_TF_NMF_LR",
          "Stem_TF_NMF_RF",
          "Stem_TF_NT_BNB",
          "Stem_TF_NT_LR",
          "Stem_TF_NT_RF"
         ],
         "yaxis": "y",
         "z": [
          [
           0.9181263092640748,
           null,
           null
          ],
          [
           0.9374553541956832,
           null,
           null
          ],
          [
           0.9754219433061485,
           null,
           null
          ],
          [
           0.9805547737317952,
           null,
           null
          ],
          [
           0.9836326895363533,
           null,
           null
          ],
          [
           0.9771628921754112,
           null,
           null
          ],
          [
           0.9069632802247789,
           null,
           null
          ],
          [
           0.8728554958900583,
           null,
           null
          ],
          [
           0.9747311832285384,
           null,
           null
          ],
          [
           0.9805547737317952,
           null,
           null
          ],
          [
           0.9624465546529692,
           null,
           null
          ],
          [
           0.9781858611556143,
           null,
           null
          ],
          [
           null,
           0.9146988028435485,
           null
          ],
          [
           null,
           0.9253677935126519,
           null
          ],
          [
           null,
           0.9769745594190531,
           null
          ],
          [
           null,
           0.9788856703512571,
           null
          ],
          [
           null,
           0.9818021994831375,
           null
          ],
          [
           null,
           0.9762205923790969,
           null
          ],
          [
           null,
           0.9072510405680657,
           null
          ],
          [
           null,
           0.8716889405930229,
           null
          ],
          [
           null,
           0.973582323626732,
           null
          ],
          [
           null,
           0.9788856703512571,
           null
          ],
          [
           null,
           0.9555187624284485,
           null
          ],
          [
           null,
           0.9781229198702208,
           null
          ],
          [
           null,
           null,
           0.9138103710621442
          ],
          [
           null,
           null,
           0.9392228868618722
          ],
          [
           null,
           null,
           0.9749646488636273
          ],
          [
           null,
           null,
           0.9808508908228738
          ],
          [
           null,
           null,
           0.9838928999847034
          ],
          [
           null,
           null,
           0.9767590793085958
          ],
          [
           null,
           null,
           0.9037865970002656
          ],
          [
           null,
           null,
           0.8701186126832566
          ],
          [
           null,
           null,
           0.974058247659225
          ],
          [
           null,
           null,
           0.9808508908228738
          ],
          [
           null,
           null,
           0.9633349864343737
          ],
          [
           null,
           null,
           0.9777282527312395
          ]
         ]
        }
       ],
       "layout": {
        "coloraxis": {
         "colorbar": {
          "title": {
           "text": "Mean Accuracy"
          }
         },
         "colorscale": [
          [
           0,
           "#440154"
          ],
          [
           0.1111111111111111,
           "#482878"
          ],
          [
           0.2222222222222222,
           "#3e4989"
          ],
          [
           0.3333333333333333,
           "#31688e"
          ],
          [
           0.4444444444444444,
           "#26828e"
          ],
          [
           0.5555555555555556,
           "#1f9e89"
          ],
          [
           0.6666666666666666,
           "#35b779"
          ],
          [
           0.7777777777777778,
           "#6ece58"
          ],
          [
           0.8888888888888888,
           "#b5de2b"
          ],
          [
           1,
           "#fde725"
          ]
         ]
        },
        "height": 600,
        "template": {
         "data": {
          "bar": [
           {
            "error_x": {
             "color": "#2a3f5f"
            },
            "error_y": {
             "color": "#2a3f5f"
            },
            "marker": {
             "line": {
              "color": "#E5ECF6",
              "width": 0.5
             },
             "pattern": {
              "fillmode": "overlay",
              "size": 10,
              "solidity": 0.2
             }
            },
            "type": "bar"
           }
          ],
          "barpolar": [
           {
            "marker": {
             "line": {
              "color": "#E5ECF6",
              "width": 0.5
             },
             "pattern": {
              "fillmode": "overlay",
              "size": 10,
              "solidity": 0.2
             }
            },
            "type": "barpolar"
           }
          ],
          "carpet": [
           {
            "aaxis": {
             "endlinecolor": "#2a3f5f",
             "gridcolor": "white",
             "linecolor": "white",
             "minorgridcolor": "white",
             "startlinecolor": "#2a3f5f"
            },
            "baxis": {
             "endlinecolor": "#2a3f5f",
             "gridcolor": "white",
             "linecolor": "white",
             "minorgridcolor": "white",
             "startlinecolor": "#2a3f5f"
            },
            "type": "carpet"
           }
          ],
          "choropleth": [
           {
            "colorbar": {
             "outlinewidth": 0,
             "ticks": ""
            },
            "type": "choropleth"
           }
          ],
          "contour": [
           {
            "colorbar": {
             "outlinewidth": 0,
             "ticks": ""
            },
            "colorscale": [
             [
              0,
              "#0d0887"
             ],
             [
              0.1111111111111111,
              "#46039f"
             ],
             [
              0.2222222222222222,
              "#7201a8"
             ],
             [
              0.3333333333333333,
              "#9c179e"
             ],
             [
              0.4444444444444444,
              "#bd3786"
             ],
             [
              0.5555555555555556,
              "#d8576b"
             ],
             [
              0.6666666666666666,
              "#ed7953"
             ],
             [
              0.7777777777777778,
              "#fb9f3a"
             ],
             [
              0.8888888888888888,
              "#fdca26"
             ],
             [
              1,
              "#f0f921"
             ]
            ],
            "type": "contour"
           }
          ],
          "contourcarpet": [
           {
            "colorbar": {
             "outlinewidth": 0,
             "ticks": ""
            },
            "type": "contourcarpet"
           }
          ],
          "heatmap": [
           {
            "colorbar": {
             "outlinewidth": 0,
             "ticks": ""
            },
            "colorscale": [
             [
              0,
              "#0d0887"
             ],
             [
              0.1111111111111111,
              "#46039f"
             ],
             [
              0.2222222222222222,
              "#7201a8"
             ],
             [
              0.3333333333333333,
              "#9c179e"
             ],
             [
              0.4444444444444444,
              "#bd3786"
             ],
             [
              0.5555555555555556,
              "#d8576b"
             ],
             [
              0.6666666666666666,
              "#ed7953"
             ],
             [
              0.7777777777777778,
              "#fb9f3a"
             ],
             [
              0.8888888888888888,
              "#fdca26"
             ],
             [
              1,
              "#f0f921"
             ]
            ],
            "type": "heatmap"
           }
          ],
          "heatmapgl": [
           {
            "colorbar": {
             "outlinewidth": 0,
             "ticks": ""
            },
            "colorscale": [
             [
              0,
              "#0d0887"
             ],
             [
              0.1111111111111111,
              "#46039f"
             ],
             [
              0.2222222222222222,
              "#7201a8"
             ],
             [
              0.3333333333333333,
              "#9c179e"
             ],
             [
              0.4444444444444444,
              "#bd3786"
             ],
             [
              0.5555555555555556,
              "#d8576b"
             ],
             [
              0.6666666666666666,
              "#ed7953"
             ],
             [
              0.7777777777777778,
              "#fb9f3a"
             ],
             [
              0.8888888888888888,
              "#fdca26"
             ],
             [
              1,
              "#f0f921"
             ]
            ],
            "type": "heatmapgl"
           }
          ],
          "histogram": [
           {
            "marker": {
             "pattern": {
              "fillmode": "overlay",
              "size": 10,
              "solidity": 0.2
             }
            },
            "type": "histogram"
           }
          ],
          "histogram2d": [
           {
            "colorbar": {
             "outlinewidth": 0,
             "ticks": ""
            },
            "colorscale": [
             [
              0,
              "#0d0887"
             ],
             [
              0.1111111111111111,
              "#46039f"
             ],
             [
              0.2222222222222222,
              "#7201a8"
             ],
             [
              0.3333333333333333,
              "#9c179e"
             ],
             [
              0.4444444444444444,
              "#bd3786"
             ],
             [
              0.5555555555555556,
              "#d8576b"
             ],
             [
              0.6666666666666666,
              "#ed7953"
             ],
             [
              0.7777777777777778,
              "#fb9f3a"
             ],
             [
              0.8888888888888888,
              "#fdca26"
             ],
             [
              1,
              "#f0f921"
             ]
            ],
            "type": "histogram2d"
           }
          ],
          "histogram2dcontour": [
           {
            "colorbar": {
             "outlinewidth": 0,
             "ticks": ""
            },
            "colorscale": [
             [
              0,
              "#0d0887"
             ],
             [
              0.1111111111111111,
              "#46039f"
             ],
             [
              0.2222222222222222,
              "#7201a8"
             ],
             [
              0.3333333333333333,
              "#9c179e"
             ],
             [
              0.4444444444444444,
              "#bd3786"
             ],
             [
              0.5555555555555556,
              "#d8576b"
             ],
             [
              0.6666666666666666,
              "#ed7953"
             ],
             [
              0.7777777777777778,
              "#fb9f3a"
             ],
             [
              0.8888888888888888,
              "#fdca26"
             ],
             [
              1,
              "#f0f921"
             ]
            ],
            "type": "histogram2dcontour"
           }
          ],
          "mesh3d": [
           {
            "colorbar": {
             "outlinewidth": 0,
             "ticks": ""
            },
            "type": "mesh3d"
           }
          ],
          "parcoords": [
           {
            "line": {
             "colorbar": {
              "outlinewidth": 0,
              "ticks": ""
             }
            },
            "type": "parcoords"
           }
          ],
          "pie": [
           {
            "automargin": true,
            "type": "pie"
           }
          ],
          "scatter": [
           {
            "fillpattern": {
             "fillmode": "overlay",
             "size": 10,
             "solidity": 0.2
            },
            "type": "scatter"
           }
          ],
          "scatter3d": [
           {
            "line": {
             "colorbar": {
              "outlinewidth": 0,
              "ticks": ""
             }
            },
            "marker": {
             "colorbar": {
              "outlinewidth": 0,
              "ticks": ""
             }
            },
            "type": "scatter3d"
           }
          ],
          "scattercarpet": [
           {
            "marker": {
             "colorbar": {
              "outlinewidth": 0,
              "ticks": ""
             }
            },
            "type": "scattercarpet"
           }
          ],
          "scattergeo": [
           {
            "marker": {
             "colorbar": {
              "outlinewidth": 0,
              "ticks": ""
             }
            },
            "type": "scattergeo"
           }
          ],
          "scattergl": [
           {
            "marker": {
             "colorbar": {
              "outlinewidth": 0,
              "ticks": ""
             }
            },
            "type": "scattergl"
           }
          ],
          "scattermapbox": [
           {
            "marker": {
             "colorbar": {
              "outlinewidth": 0,
              "ticks": ""
             }
            },
            "type": "scattermapbox"
           }
          ],
          "scatterpolar": [
           {
            "marker": {
             "colorbar": {
              "outlinewidth": 0,
              "ticks": ""
             }
            },
            "type": "scatterpolar"
           }
          ],
          "scatterpolargl": [
           {
            "marker": {
             "colorbar": {
              "outlinewidth": 0,
              "ticks": ""
             }
            },
            "type": "scatterpolargl"
           }
          ],
          "scatterternary": [
           {
            "marker": {
             "colorbar": {
              "outlinewidth": 0,
              "ticks": ""
             }
            },
            "type": "scatterternary"
           }
          ],
          "surface": [
           {
            "colorbar": {
             "outlinewidth": 0,
             "ticks": ""
            },
            "colorscale": [
             [
              0,
              "#0d0887"
             ],
             [
              0.1111111111111111,
              "#46039f"
             ],
             [
              0.2222222222222222,
              "#7201a8"
             ],
             [
              0.3333333333333333,
              "#9c179e"
             ],
             [
              0.4444444444444444,
              "#bd3786"
             ],
             [
              0.5555555555555556,
              "#d8576b"
             ],
             [
              0.6666666666666666,
              "#ed7953"
             ],
             [
              0.7777777777777778,
              "#fb9f3a"
             ],
             [
              0.8888888888888888,
              "#fdca26"
             ],
             [
              1,
              "#f0f921"
             ]
            ],
            "type": "surface"
           }
          ],
          "table": [
           {
            "cells": {
             "fill": {
              "color": "#EBF0F8"
             },
             "line": {
              "color": "white"
             }
            },
            "header": {
             "fill": {
              "color": "#C8D4E3"
             },
             "line": {
              "color": "white"
             }
            },
            "type": "table"
           }
          ]
         },
         "layout": {
          "annotationdefaults": {
           "arrowcolor": "#2a3f5f",
           "arrowhead": 0,
           "arrowwidth": 1
          },
          "autotypenumbers": "strict",
          "coloraxis": {
           "colorbar": {
            "outlinewidth": 0,
            "ticks": ""
           }
          },
          "colorscale": {
           "diverging": [
            [
             0,
             "#8e0152"
            ],
            [
             0.1,
             "#c51b7d"
            ],
            [
             0.2,
             "#de77ae"
            ],
            [
             0.3,
             "#f1b6da"
            ],
            [
             0.4,
             "#fde0ef"
            ],
            [
             0.5,
             "#f7f7f7"
            ],
            [
             0.6,
             "#e6f5d0"
            ],
            [
             0.7,
             "#b8e186"
            ],
            [
             0.8,
             "#7fbc41"
            ],
            [
             0.9,
             "#4d9221"
            ],
            [
             1,
             "#276419"
            ]
           ],
           "sequential": [
            [
             0,
             "#0d0887"
            ],
            [
             0.1111111111111111,
             "#46039f"
            ],
            [
             0.2222222222222222,
             "#7201a8"
            ],
            [
             0.3333333333333333,
             "#9c179e"
            ],
            [
             0.4444444444444444,
             "#bd3786"
            ],
            [
             0.5555555555555556,
             "#d8576b"
            ],
            [
             0.6666666666666666,
             "#ed7953"
            ],
            [
             0.7777777777777778,
             "#fb9f3a"
            ],
            [
             0.8888888888888888,
             "#fdca26"
            ],
            [
             1,
             "#f0f921"
            ]
           ],
           "sequentialminus": [
            [
             0,
             "#0d0887"
            ],
            [
             0.1111111111111111,
             "#46039f"
            ],
            [
             0.2222222222222222,
             "#7201a8"
            ],
            [
             0.3333333333333333,
             "#9c179e"
            ],
            [
             0.4444444444444444,
             "#bd3786"
            ],
            [
             0.5555555555555556,
             "#d8576b"
            ],
            [
             0.6666666666666666,
             "#ed7953"
            ],
            [
             0.7777777777777778,
             "#fb9f3a"
            ],
            [
             0.8888888888888888,
             "#fdca26"
            ],
            [
             1,
             "#f0f921"
            ]
           ]
          },
          "colorway": [
           "#636efa",
           "#EF553B",
           "#00cc96",
           "#ab63fa",
           "#FFA15A",
           "#19d3f3",
           "#FF6692",
           "#B6E880",
           "#FF97FF",
           "#FECB52"
          ],
          "font": {
           "color": "#2a3f5f"
          },
          "geo": {
           "bgcolor": "white",
           "lakecolor": "white",
           "landcolor": "#E5ECF6",
           "showlakes": true,
           "showland": true,
           "subunitcolor": "white"
          },
          "hoverlabel": {
           "align": "left"
          },
          "hovermode": "closest",
          "mapbox": {
           "style": "light"
          },
          "paper_bgcolor": "white",
          "plot_bgcolor": "#E5ECF6",
          "polar": {
           "angularaxis": {
            "gridcolor": "white",
            "linecolor": "white",
            "ticks": ""
           },
           "bgcolor": "#E5ECF6",
           "radialaxis": {
            "gridcolor": "white",
            "linecolor": "white",
            "ticks": ""
           }
          },
          "scene": {
           "xaxis": {
            "backgroundcolor": "#E5ECF6",
            "gridcolor": "white",
            "gridwidth": 2,
            "linecolor": "white",
            "showbackground": true,
            "ticks": "",
            "zerolinecolor": "white"
           },
           "yaxis": {
            "backgroundcolor": "#E5ECF6",
            "gridcolor": "white",
            "gridwidth": 2,
            "linecolor": "white",
            "showbackground": true,
            "ticks": "",
            "zerolinecolor": "white"
           },
           "zaxis": {
            "backgroundcolor": "#E5ECF6",
            "gridcolor": "white",
            "gridwidth": 2,
            "linecolor": "white",
            "showbackground": true,
            "ticks": "",
            "zerolinecolor": "white"
           }
          },
          "shapedefaults": {
           "line": {
            "color": "#2a3f5f"
           }
          },
          "ternary": {
           "aaxis": {
            "gridcolor": "white",
            "linecolor": "white",
            "ticks": ""
           },
           "baxis": {
            "gridcolor": "white",
            "linecolor": "white",
            "ticks": ""
           },
           "bgcolor": "#E5ECF6",
           "caxis": {
            "gridcolor": "white",
            "linecolor": "white",
            "ticks": ""
           }
          },
          "title": {
           "x": 0.05
          },
          "xaxis": {
           "automargin": true,
           "gridcolor": "white",
           "linecolor": "white",
           "ticks": "",
           "title": {
            "standoff": 15
           },
           "zerolinecolor": "white",
           "zerolinewidth": 2
          },
          "yaxis": {
           "automargin": true,
           "gridcolor": "white",
           "linecolor": "white",
           "ticks": "",
           "title": {
            "standoff": 15
           },
           "zerolinecolor": "white",
           "zerolinewidth": 2
          }
         }
        },
        "title": {
         "text": "Heatmap of Mean Accuracy by Model Combination"
        },
        "width": 800,
        "xaxis": {
         "anchor": "y",
         "constrain": "domain",
         "domain": [
          0,
          1
         ],
         "scaleanchor": "y",
         "title": {
          "text": "DataFrame"
         }
        },
        "yaxis": {
         "anchor": "x",
         "autorange": "reversed",
         "constrain": "domain",
         "domain": [
          0,
          1
         ],
         "title": {
          "text": "Model Combination"
         }
        }
       }
      }
     },
     "metadata": {},
     "output_type": "display_data"
    }
   ],
   "source": [
    "# Criar um heatmap interativo\n",
    "fig = px.imshow(results_df.pivot(index='Abbreviated Combination', columns='DataFrame', values='Mean Accuracy'),\n",
    "                color_continuous_scale='Viridis',\n",
    "                labels={'color': 'Mean Accuracy'},\n",
    "                title='Heatmap of Mean Accuracy by Model Combination')\n",
    "\n",
    "# Atualizar layout\n",
    "fig.update_layout(\n",
    "    xaxis_title='DataFrame',\n",
    "    yaxis_title='Model Combination',\n",
    "    height=600, width=800\n",
    ")\n",
    "\n",
    "# Exibir o gráfico\n",
    "fig.show()\n"
   ]
  },
  {
   "cell_type": "code",
   "execution_count": 61,
   "metadata": {},
   "outputs": [
    {
     "data": {
      "application/vnd.plotly.v1+json": {
       "config": {
        "plotlyServerURL": "https://plot.ly"
       },
       "data": [
        {
         "alignmentgroup": "True",
         "boxpoints": "all",
         "hovertemplate": "DataFrame=Stemmed<br>Abbreviated Combination=%{x}<br>Mean Accuracy=%{y}<extra></extra>",
         "legendgroup": "Stemmed",
         "marker": {
          "color": "#636efa"
         },
         "name": "Stemmed",
         "notched": false,
         "offsetgroup": "Stemmed",
         "orientation": "v",
         "showlegend": true,
         "type": "box",
         "x": [
          "Stem_Cnt_NMF_BNB",
          "Stem_Cnt_NMF_LR",
          "Stem_Cnt_NMF_RF",
          "Stem_Cnt_NT_BNB",
          "Stem_Cnt_NT_LR",
          "Stem_Cnt_NT_RF",
          "Stem_TF_NMF_BNB",
          "Stem_TF_NMF_LR",
          "Stem_TF_NMF_RF",
          "Stem_TF_NT_BNB",
          "Stem_TF_NT_LR",
          "Stem_TF_NT_RF"
         ],
         "x0": " ",
         "xaxis": "x",
         "y": [
          0.9138103710621442,
          0.9392228868618722,
          0.9749646488636273,
          0.9808508908228738,
          0.9838928999847034,
          0.9767590793085958,
          0.9037865970002656,
          0.8701186126832566,
          0.974058247659225,
          0.9808508908228738,
          0.9633349864343737,
          0.9777282527312395
         ],
         "y0": " ",
         "yaxis": "y"
        },
        {
         "alignmentgroup": "True",
         "boxpoints": "all",
         "hovertemplate": "DataFrame=Lemmatized<br>Abbreviated Combination=%{x}<br>Mean Accuracy=%{y}<extra></extra>",
         "legendgroup": "Lemmatized",
         "marker": {
          "color": "#EF553B"
         },
         "name": "Lemmatized",
         "notched": false,
         "offsetgroup": "Lemmatized",
         "orientation": "v",
         "showlegend": true,
         "type": "box",
         "x": [
          "Lem_Cnt_NMF_BNB",
          "Lem_Cnt_NMF_LR",
          "Lem_Cnt_NMF_RF",
          "Lem_Cnt_NT_BNB",
          "Lem_Cnt_NT_LR",
          "Lem_Cnt_NT_RF",
          "Lem_TF_NMF_BNB",
          "Lem_TF_NMF_LR",
          "Lem_TF_NMF_RF",
          "Lem_TF_NT_BNB",
          "Lem_TF_NT_LR",
          "Lem_TF_NT_RF"
         ],
         "x0": " ",
         "xaxis": "x",
         "y": [
          0.9181263092640748,
          0.9374553541956832,
          0.9754219433061485,
          0.9805547737317952,
          0.9836326895363533,
          0.9771628921754112,
          0.9069632802247789,
          0.8728554958900583,
          0.9747311832285384,
          0.9805547737317952,
          0.9624465546529692,
          0.9781858611556143
         ],
         "y0": " ",
         "yaxis": "y"
        },
        {
         "alignmentgroup": "True",
         "boxpoints": "all",
         "hovertemplate": "DataFrame=NoStopwords<br>Abbreviated Combination=%{x}<br>Mean Accuracy=%{y}<extra></extra>",
         "legendgroup": "NoStopwords",
         "marker": {
          "color": "#00cc96"
         },
         "name": "NoStopwords",
         "notched": false,
         "offsetgroup": "NoStopwords",
         "orientation": "v",
         "showlegend": true,
         "type": "box",
         "x": [
          "NoSW_Cnt_NMF_BNB",
          "NoSW_Cnt_NMF_LR",
          "NoSW_Cnt_NMF_RF",
          "NoSW_Cnt_NT_BNB",
          "NoSW_Cnt_NT_LR",
          "NoSW_Cnt_NT_RF",
          "NoSW_TF_NMF_BNB",
          "NoSW_TF_NMF_LR",
          "NoSW_TF_NMF_RF",
          "NoSW_TF_NT_BNB",
          "NoSW_TF_NT_LR",
          "NoSW_TF_NT_RF"
         ],
         "x0": " ",
         "xaxis": "x",
         "y": [
          0.9146988028435485,
          0.9253677935126519,
          0.9769745594190531,
          0.9788856703512571,
          0.9818021994831375,
          0.9762205923790969,
          0.9072510405680657,
          0.8716889405930229,
          0.973582323626732,
          0.9788856703512571,
          0.9555187624284485,
          0.9781229198702208
         ],
         "y0": " ",
         "yaxis": "y"
        }
       ],
       "layout": {
        "boxmode": "group",
        "height": 600,
        "legend": {
         "title": {
          "text": "DataFrame"
         },
         "tracegroupgap": 0
        },
        "template": {
         "data": {
          "bar": [
           {
            "error_x": {
             "color": "#2a3f5f"
            },
            "error_y": {
             "color": "#2a3f5f"
            },
            "marker": {
             "line": {
              "color": "#E5ECF6",
              "width": 0.5
             },
             "pattern": {
              "fillmode": "overlay",
              "size": 10,
              "solidity": 0.2
             }
            },
            "type": "bar"
           }
          ],
          "barpolar": [
           {
            "marker": {
             "line": {
              "color": "#E5ECF6",
              "width": 0.5
             },
             "pattern": {
              "fillmode": "overlay",
              "size": 10,
              "solidity": 0.2
             }
            },
            "type": "barpolar"
           }
          ],
          "carpet": [
           {
            "aaxis": {
             "endlinecolor": "#2a3f5f",
             "gridcolor": "white",
             "linecolor": "white",
             "minorgridcolor": "white",
             "startlinecolor": "#2a3f5f"
            },
            "baxis": {
             "endlinecolor": "#2a3f5f",
             "gridcolor": "white",
             "linecolor": "white",
             "minorgridcolor": "white",
             "startlinecolor": "#2a3f5f"
            },
            "type": "carpet"
           }
          ],
          "choropleth": [
           {
            "colorbar": {
             "outlinewidth": 0,
             "ticks": ""
            },
            "type": "choropleth"
           }
          ],
          "contour": [
           {
            "colorbar": {
             "outlinewidth": 0,
             "ticks": ""
            },
            "colorscale": [
             [
              0,
              "#0d0887"
             ],
             [
              0.1111111111111111,
              "#46039f"
             ],
             [
              0.2222222222222222,
              "#7201a8"
             ],
             [
              0.3333333333333333,
              "#9c179e"
             ],
             [
              0.4444444444444444,
              "#bd3786"
             ],
             [
              0.5555555555555556,
              "#d8576b"
             ],
             [
              0.6666666666666666,
              "#ed7953"
             ],
             [
              0.7777777777777778,
              "#fb9f3a"
             ],
             [
              0.8888888888888888,
              "#fdca26"
             ],
             [
              1,
              "#f0f921"
             ]
            ],
            "type": "contour"
           }
          ],
          "contourcarpet": [
           {
            "colorbar": {
             "outlinewidth": 0,
             "ticks": ""
            },
            "type": "contourcarpet"
           }
          ],
          "heatmap": [
           {
            "colorbar": {
             "outlinewidth": 0,
             "ticks": ""
            },
            "colorscale": [
             [
              0,
              "#0d0887"
             ],
             [
              0.1111111111111111,
              "#46039f"
             ],
             [
              0.2222222222222222,
              "#7201a8"
             ],
             [
              0.3333333333333333,
              "#9c179e"
             ],
             [
              0.4444444444444444,
              "#bd3786"
             ],
             [
              0.5555555555555556,
              "#d8576b"
             ],
             [
              0.6666666666666666,
              "#ed7953"
             ],
             [
              0.7777777777777778,
              "#fb9f3a"
             ],
             [
              0.8888888888888888,
              "#fdca26"
             ],
             [
              1,
              "#f0f921"
             ]
            ],
            "type": "heatmap"
           }
          ],
          "heatmapgl": [
           {
            "colorbar": {
             "outlinewidth": 0,
             "ticks": ""
            },
            "colorscale": [
             [
              0,
              "#0d0887"
             ],
             [
              0.1111111111111111,
              "#46039f"
             ],
             [
              0.2222222222222222,
              "#7201a8"
             ],
             [
              0.3333333333333333,
              "#9c179e"
             ],
             [
              0.4444444444444444,
              "#bd3786"
             ],
             [
              0.5555555555555556,
              "#d8576b"
             ],
             [
              0.6666666666666666,
              "#ed7953"
             ],
             [
              0.7777777777777778,
              "#fb9f3a"
             ],
             [
              0.8888888888888888,
              "#fdca26"
             ],
             [
              1,
              "#f0f921"
             ]
            ],
            "type": "heatmapgl"
           }
          ],
          "histogram": [
           {
            "marker": {
             "pattern": {
              "fillmode": "overlay",
              "size": 10,
              "solidity": 0.2
             }
            },
            "type": "histogram"
           }
          ],
          "histogram2d": [
           {
            "colorbar": {
             "outlinewidth": 0,
             "ticks": ""
            },
            "colorscale": [
             [
              0,
              "#0d0887"
             ],
             [
              0.1111111111111111,
              "#46039f"
             ],
             [
              0.2222222222222222,
              "#7201a8"
             ],
             [
              0.3333333333333333,
              "#9c179e"
             ],
             [
              0.4444444444444444,
              "#bd3786"
             ],
             [
              0.5555555555555556,
              "#d8576b"
             ],
             [
              0.6666666666666666,
              "#ed7953"
             ],
             [
              0.7777777777777778,
              "#fb9f3a"
             ],
             [
              0.8888888888888888,
              "#fdca26"
             ],
             [
              1,
              "#f0f921"
             ]
            ],
            "type": "histogram2d"
           }
          ],
          "histogram2dcontour": [
           {
            "colorbar": {
             "outlinewidth": 0,
             "ticks": ""
            },
            "colorscale": [
             [
              0,
              "#0d0887"
             ],
             [
              0.1111111111111111,
              "#46039f"
             ],
             [
              0.2222222222222222,
              "#7201a8"
             ],
             [
              0.3333333333333333,
              "#9c179e"
             ],
             [
              0.4444444444444444,
              "#bd3786"
             ],
             [
              0.5555555555555556,
              "#d8576b"
             ],
             [
              0.6666666666666666,
              "#ed7953"
             ],
             [
              0.7777777777777778,
              "#fb9f3a"
             ],
             [
              0.8888888888888888,
              "#fdca26"
             ],
             [
              1,
              "#f0f921"
             ]
            ],
            "type": "histogram2dcontour"
           }
          ],
          "mesh3d": [
           {
            "colorbar": {
             "outlinewidth": 0,
             "ticks": ""
            },
            "type": "mesh3d"
           }
          ],
          "parcoords": [
           {
            "line": {
             "colorbar": {
              "outlinewidth": 0,
              "ticks": ""
             }
            },
            "type": "parcoords"
           }
          ],
          "pie": [
           {
            "automargin": true,
            "type": "pie"
           }
          ],
          "scatter": [
           {
            "fillpattern": {
             "fillmode": "overlay",
             "size": 10,
             "solidity": 0.2
            },
            "type": "scatter"
           }
          ],
          "scatter3d": [
           {
            "line": {
             "colorbar": {
              "outlinewidth": 0,
              "ticks": ""
             }
            },
            "marker": {
             "colorbar": {
              "outlinewidth": 0,
              "ticks": ""
             }
            },
            "type": "scatter3d"
           }
          ],
          "scattercarpet": [
           {
            "marker": {
             "colorbar": {
              "outlinewidth": 0,
              "ticks": ""
             }
            },
            "type": "scattercarpet"
           }
          ],
          "scattergeo": [
           {
            "marker": {
             "colorbar": {
              "outlinewidth": 0,
              "ticks": ""
             }
            },
            "type": "scattergeo"
           }
          ],
          "scattergl": [
           {
            "marker": {
             "colorbar": {
              "outlinewidth": 0,
              "ticks": ""
             }
            },
            "type": "scattergl"
           }
          ],
          "scattermapbox": [
           {
            "marker": {
             "colorbar": {
              "outlinewidth": 0,
              "ticks": ""
             }
            },
            "type": "scattermapbox"
           }
          ],
          "scatterpolar": [
           {
            "marker": {
             "colorbar": {
              "outlinewidth": 0,
              "ticks": ""
             }
            },
            "type": "scatterpolar"
           }
          ],
          "scatterpolargl": [
           {
            "marker": {
             "colorbar": {
              "outlinewidth": 0,
              "ticks": ""
             }
            },
            "type": "scatterpolargl"
           }
          ],
          "scatterternary": [
           {
            "marker": {
             "colorbar": {
              "outlinewidth": 0,
              "ticks": ""
             }
            },
            "type": "scatterternary"
           }
          ],
          "surface": [
           {
            "colorbar": {
             "outlinewidth": 0,
             "ticks": ""
            },
            "colorscale": [
             [
              0,
              "#0d0887"
             ],
             [
              0.1111111111111111,
              "#46039f"
             ],
             [
              0.2222222222222222,
              "#7201a8"
             ],
             [
              0.3333333333333333,
              "#9c179e"
             ],
             [
              0.4444444444444444,
              "#bd3786"
             ],
             [
              0.5555555555555556,
              "#d8576b"
             ],
             [
              0.6666666666666666,
              "#ed7953"
             ],
             [
              0.7777777777777778,
              "#fb9f3a"
             ],
             [
              0.8888888888888888,
              "#fdca26"
             ],
             [
              1,
              "#f0f921"
             ]
            ],
            "type": "surface"
           }
          ],
          "table": [
           {
            "cells": {
             "fill": {
              "color": "#EBF0F8"
             },
             "line": {
              "color": "white"
             }
            },
            "header": {
             "fill": {
              "color": "#C8D4E3"
             },
             "line": {
              "color": "white"
             }
            },
            "type": "table"
           }
          ]
         },
         "layout": {
          "annotationdefaults": {
           "arrowcolor": "#2a3f5f",
           "arrowhead": 0,
           "arrowwidth": 1
          },
          "autotypenumbers": "strict",
          "coloraxis": {
           "colorbar": {
            "outlinewidth": 0,
            "ticks": ""
           }
          },
          "colorscale": {
           "diverging": [
            [
             0,
             "#8e0152"
            ],
            [
             0.1,
             "#c51b7d"
            ],
            [
             0.2,
             "#de77ae"
            ],
            [
             0.3,
             "#f1b6da"
            ],
            [
             0.4,
             "#fde0ef"
            ],
            [
             0.5,
             "#f7f7f7"
            ],
            [
             0.6,
             "#e6f5d0"
            ],
            [
             0.7,
             "#b8e186"
            ],
            [
             0.8,
             "#7fbc41"
            ],
            [
             0.9,
             "#4d9221"
            ],
            [
             1,
             "#276419"
            ]
           ],
           "sequential": [
            [
             0,
             "#0d0887"
            ],
            [
             0.1111111111111111,
             "#46039f"
            ],
            [
             0.2222222222222222,
             "#7201a8"
            ],
            [
             0.3333333333333333,
             "#9c179e"
            ],
            [
             0.4444444444444444,
             "#bd3786"
            ],
            [
             0.5555555555555556,
             "#d8576b"
            ],
            [
             0.6666666666666666,
             "#ed7953"
            ],
            [
             0.7777777777777778,
             "#fb9f3a"
            ],
            [
             0.8888888888888888,
             "#fdca26"
            ],
            [
             1,
             "#f0f921"
            ]
           ],
           "sequentialminus": [
            [
             0,
             "#0d0887"
            ],
            [
             0.1111111111111111,
             "#46039f"
            ],
            [
             0.2222222222222222,
             "#7201a8"
            ],
            [
             0.3333333333333333,
             "#9c179e"
            ],
            [
             0.4444444444444444,
             "#bd3786"
            ],
            [
             0.5555555555555556,
             "#d8576b"
            ],
            [
             0.6666666666666666,
             "#ed7953"
            ],
            [
             0.7777777777777778,
             "#fb9f3a"
            ],
            [
             0.8888888888888888,
             "#fdca26"
            ],
            [
             1,
             "#f0f921"
            ]
           ]
          },
          "colorway": [
           "#636efa",
           "#EF553B",
           "#00cc96",
           "#ab63fa",
           "#FFA15A",
           "#19d3f3",
           "#FF6692",
           "#B6E880",
           "#FF97FF",
           "#FECB52"
          ],
          "font": {
           "color": "#2a3f5f"
          },
          "geo": {
           "bgcolor": "white",
           "lakecolor": "white",
           "landcolor": "#E5ECF6",
           "showlakes": true,
           "showland": true,
           "subunitcolor": "white"
          },
          "hoverlabel": {
           "align": "left"
          },
          "hovermode": "closest",
          "mapbox": {
           "style": "light"
          },
          "paper_bgcolor": "white",
          "plot_bgcolor": "#E5ECF6",
          "polar": {
           "angularaxis": {
            "gridcolor": "white",
            "linecolor": "white",
            "ticks": ""
           },
           "bgcolor": "#E5ECF6",
           "radialaxis": {
            "gridcolor": "white",
            "linecolor": "white",
            "ticks": ""
           }
          },
          "scene": {
           "xaxis": {
            "backgroundcolor": "#E5ECF6",
            "gridcolor": "white",
            "gridwidth": 2,
            "linecolor": "white",
            "showbackground": true,
            "ticks": "",
            "zerolinecolor": "white"
           },
           "yaxis": {
            "backgroundcolor": "#E5ECF6",
            "gridcolor": "white",
            "gridwidth": 2,
            "linecolor": "white",
            "showbackground": true,
            "ticks": "",
            "zerolinecolor": "white"
           },
           "zaxis": {
            "backgroundcolor": "#E5ECF6",
            "gridcolor": "white",
            "gridwidth": 2,
            "linecolor": "white",
            "showbackground": true,
            "ticks": "",
            "zerolinecolor": "white"
           }
          },
          "shapedefaults": {
           "line": {
            "color": "#2a3f5f"
           }
          },
          "ternary": {
           "aaxis": {
            "gridcolor": "white",
            "linecolor": "white",
            "ticks": ""
           },
           "baxis": {
            "gridcolor": "white",
            "linecolor": "white",
            "ticks": ""
           },
           "bgcolor": "#E5ECF6",
           "caxis": {
            "gridcolor": "white",
            "linecolor": "white",
            "ticks": ""
           }
          },
          "title": {
           "x": 0.05
          },
          "xaxis": {
           "automargin": true,
           "gridcolor": "white",
           "linecolor": "white",
           "ticks": "",
           "title": {
            "standoff": 15
           },
           "zerolinecolor": "white",
           "zerolinewidth": 2
          },
          "yaxis": {
           "automargin": true,
           "gridcolor": "white",
           "linecolor": "white",
           "ticks": "",
           "title": {
            "standoff": 15
           },
           "zerolinecolor": "white",
           "zerolinewidth": 2
          }
         }
        },
        "title": {
         "text": "Distribuição de Acurácia por Combinação de Modelos"
        },
        "width": 1000,
        "xaxis": {
         "anchor": "y",
         "domain": [
          0,
          1
         ],
         "tickangle": -45,
         "title": {
          "text": "Combinação de Modelos"
         }
        },
        "yaxis": {
         "anchor": "x",
         "domain": [
          0,
          1
         ],
         "title": {
          "text": "Mean Accuracy"
         }
        }
       }
      }
     },
     "metadata": {},
     "output_type": "display_data"
    }
   ],
   "source": [
    "# Criar um box plot\n",
    "fig = px.box(results_df, x='Abbreviated Combination', y='Mean Accuracy', color='DataFrame',\n",
    "             points=\"all\",  # Mostra todos os pontos de dados\n",
    "             title=\"Distribuição de Acurácia por Combinação de Modelos\")\n",
    "\n",
    "# Atualizar layout\n",
    "fig.update_layout(\n",
    "    xaxis_tickangle=-45,\n",
    "    xaxis_title=\"Combinação de Modelos\",\n",
    "    yaxis_title=\"Mean Accuracy\",\n",
    "    height=600,\n",
    "    width=1000\n",
    ")\n",
    "\n",
    "# Exibir o gráfico\n",
    "fig.show()\n"
   ]
  },
  {
   "cell_type": "code",
   "execution_count": 64,
   "metadata": {},
   "outputs": [
    {
     "data": {
      "application/vnd.plotly.v1+json": {
       "config": {
        "plotlyServerURL": "https://plot.ly"
       },
       "data": [
        {
         "hovertemplate": "DataFrame=Stemmed<br>Abbreviated Combination=%{x}<br>Mean Accuracy=%{y}<extra></extra>",
         "legendgroup": "",
         "line": {
          "color": "#636efa",
          "dash": "solid"
         },
         "marker": {
          "symbol": "circle"
         },
         "mode": "lines",
         "name": "",
         "orientation": "v",
         "showlegend": false,
         "type": "scatter",
         "x": [
          "Stem_Cnt_NMF_BNB",
          "Stem_Cnt_NMF_LR",
          "Stem_Cnt_NMF_RF",
          "Stem_Cnt_NT_BNB",
          "Stem_Cnt_NT_LR",
          "Stem_Cnt_NT_RF",
          "Stem_TF_NMF_BNB",
          "Stem_TF_NMF_LR",
          "Stem_TF_NMF_RF",
          "Stem_TF_NT_BNB",
          "Stem_TF_NT_LR",
          "Stem_TF_NT_RF"
         ],
         "xaxis": "x",
         "y": [
          0.9138103710621442,
          0.9392228868618722,
          0.9749646488636273,
          0.9808508908228738,
          0.9838928999847034,
          0.9767590793085958,
          0.9037865970002656,
          0.8701186126832566,
          0.974058247659225,
          0.9808508908228738,
          0.9633349864343737,
          0.9777282527312395
         ],
         "yaxis": "y"
        },
        {
         "hovertemplate": "DataFrame=Lemmatized<br>Abbreviated Combination=%{x}<br>Mean Accuracy=%{y}<extra></extra>",
         "legendgroup": "",
         "line": {
          "color": "#636efa",
          "dash": "solid"
         },
         "marker": {
          "symbol": "circle"
         },
         "mode": "lines",
         "name": "",
         "orientation": "v",
         "showlegend": false,
         "type": "scatter",
         "x": [
          "Lem_Cnt_NMF_BNB",
          "Lem_Cnt_NMF_LR",
          "Lem_Cnt_NMF_RF",
          "Lem_Cnt_NT_BNB",
          "Lem_Cnt_NT_LR",
          "Lem_Cnt_NT_RF",
          "Lem_TF_NMF_BNB",
          "Lem_TF_NMF_LR",
          "Lem_TF_NMF_RF",
          "Lem_TF_NT_BNB",
          "Lem_TF_NT_LR",
          "Lem_TF_NT_RF"
         ],
         "xaxis": "x2",
         "y": [
          0.9181263092640748,
          0.9374553541956832,
          0.9754219433061485,
          0.9805547737317952,
          0.9836326895363533,
          0.9771628921754112,
          0.9069632802247789,
          0.8728554958900583,
          0.9747311832285384,
          0.9805547737317952,
          0.9624465546529692,
          0.9781858611556143
         ],
         "yaxis": "y2"
        },
        {
         "hovertemplate": "DataFrame=NoStopwords<br>Abbreviated Combination=%{x}<br>Mean Accuracy=%{y}<extra></extra>",
         "legendgroup": "",
         "line": {
          "color": "#636efa",
          "dash": "solid"
         },
         "marker": {
          "symbol": "circle"
         },
         "mode": "lines",
         "name": "",
         "orientation": "v",
         "showlegend": false,
         "type": "scatter",
         "x": [
          "NoSW_Cnt_NMF_BNB",
          "NoSW_Cnt_NMF_LR",
          "NoSW_Cnt_NMF_RF",
          "NoSW_Cnt_NT_BNB",
          "NoSW_Cnt_NT_LR",
          "NoSW_Cnt_NT_RF",
          "NoSW_TF_NMF_BNB",
          "NoSW_TF_NMF_LR",
          "NoSW_TF_NMF_RF",
          "NoSW_TF_NT_BNB",
          "NoSW_TF_NT_LR",
          "NoSW_TF_NT_RF"
         ],
         "xaxis": "x3",
         "y": [
          0.9146988028435485,
          0.9253677935126519,
          0.9769745594190531,
          0.9788856703512571,
          0.9818021994831375,
          0.9762205923790969,
          0.9072510405680657,
          0.8716889405930229,
          0.973582323626732,
          0.9788856703512571,
          0.9555187624284485,
          0.9781229198702208
         ],
         "yaxis": "y3"
        }
       ],
       "layout": {
        "annotations": [
         {
          "font": {},
          "showarrow": false,
          "text": "DataFrame=Stemmed",
          "x": 0.15999999999999998,
          "xanchor": "center",
          "xref": "paper",
          "y": 1,
          "yanchor": "bottom",
          "yref": "paper"
         },
         {
          "font": {},
          "showarrow": false,
          "text": "DataFrame=Lemmatized",
          "x": 0.49999999999999994,
          "xanchor": "center",
          "xref": "paper",
          "y": 1,
          "yanchor": "bottom",
          "yref": "paper"
         },
         {
          "font": {},
          "showarrow": false,
          "text": "DataFrame=NoStopwords",
          "x": 0.8399999999999999,
          "xanchor": "center",
          "xref": "paper",
          "y": 1,
          "yanchor": "bottom",
          "yref": "paper"
         }
        ],
        "height": 600,
        "legend": {
         "tracegroupgap": 0
        },
        "template": {
         "data": {
          "bar": [
           {
            "error_x": {
             "color": "#2a3f5f"
            },
            "error_y": {
             "color": "#2a3f5f"
            },
            "marker": {
             "line": {
              "color": "#E5ECF6",
              "width": 0.5
             },
             "pattern": {
              "fillmode": "overlay",
              "size": 10,
              "solidity": 0.2
             }
            },
            "type": "bar"
           }
          ],
          "barpolar": [
           {
            "marker": {
             "line": {
              "color": "#E5ECF6",
              "width": 0.5
             },
             "pattern": {
              "fillmode": "overlay",
              "size": 10,
              "solidity": 0.2
             }
            },
            "type": "barpolar"
           }
          ],
          "carpet": [
           {
            "aaxis": {
             "endlinecolor": "#2a3f5f",
             "gridcolor": "white",
             "linecolor": "white",
             "minorgridcolor": "white",
             "startlinecolor": "#2a3f5f"
            },
            "baxis": {
             "endlinecolor": "#2a3f5f",
             "gridcolor": "white",
             "linecolor": "white",
             "minorgridcolor": "white",
             "startlinecolor": "#2a3f5f"
            },
            "type": "carpet"
           }
          ],
          "choropleth": [
           {
            "colorbar": {
             "outlinewidth": 0,
             "ticks": ""
            },
            "type": "choropleth"
           }
          ],
          "contour": [
           {
            "colorbar": {
             "outlinewidth": 0,
             "ticks": ""
            },
            "colorscale": [
             [
              0,
              "#0d0887"
             ],
             [
              0.1111111111111111,
              "#46039f"
             ],
             [
              0.2222222222222222,
              "#7201a8"
             ],
             [
              0.3333333333333333,
              "#9c179e"
             ],
             [
              0.4444444444444444,
              "#bd3786"
             ],
             [
              0.5555555555555556,
              "#d8576b"
             ],
             [
              0.6666666666666666,
              "#ed7953"
             ],
             [
              0.7777777777777778,
              "#fb9f3a"
             ],
             [
              0.8888888888888888,
              "#fdca26"
             ],
             [
              1,
              "#f0f921"
             ]
            ],
            "type": "contour"
           }
          ],
          "contourcarpet": [
           {
            "colorbar": {
             "outlinewidth": 0,
             "ticks": ""
            },
            "type": "contourcarpet"
           }
          ],
          "heatmap": [
           {
            "colorbar": {
             "outlinewidth": 0,
             "ticks": ""
            },
            "colorscale": [
             [
              0,
              "#0d0887"
             ],
             [
              0.1111111111111111,
              "#46039f"
             ],
             [
              0.2222222222222222,
              "#7201a8"
             ],
             [
              0.3333333333333333,
              "#9c179e"
             ],
             [
              0.4444444444444444,
              "#bd3786"
             ],
             [
              0.5555555555555556,
              "#d8576b"
             ],
             [
              0.6666666666666666,
              "#ed7953"
             ],
             [
              0.7777777777777778,
              "#fb9f3a"
             ],
             [
              0.8888888888888888,
              "#fdca26"
             ],
             [
              1,
              "#f0f921"
             ]
            ],
            "type": "heatmap"
           }
          ],
          "heatmapgl": [
           {
            "colorbar": {
             "outlinewidth": 0,
             "ticks": ""
            },
            "colorscale": [
             [
              0,
              "#0d0887"
             ],
             [
              0.1111111111111111,
              "#46039f"
             ],
             [
              0.2222222222222222,
              "#7201a8"
             ],
             [
              0.3333333333333333,
              "#9c179e"
             ],
             [
              0.4444444444444444,
              "#bd3786"
             ],
             [
              0.5555555555555556,
              "#d8576b"
             ],
             [
              0.6666666666666666,
              "#ed7953"
             ],
             [
              0.7777777777777778,
              "#fb9f3a"
             ],
             [
              0.8888888888888888,
              "#fdca26"
             ],
             [
              1,
              "#f0f921"
             ]
            ],
            "type": "heatmapgl"
           }
          ],
          "histogram": [
           {
            "marker": {
             "pattern": {
              "fillmode": "overlay",
              "size": 10,
              "solidity": 0.2
             }
            },
            "type": "histogram"
           }
          ],
          "histogram2d": [
           {
            "colorbar": {
             "outlinewidth": 0,
             "ticks": ""
            },
            "colorscale": [
             [
              0,
              "#0d0887"
             ],
             [
              0.1111111111111111,
              "#46039f"
             ],
             [
              0.2222222222222222,
              "#7201a8"
             ],
             [
              0.3333333333333333,
              "#9c179e"
             ],
             [
              0.4444444444444444,
              "#bd3786"
             ],
             [
              0.5555555555555556,
              "#d8576b"
             ],
             [
              0.6666666666666666,
              "#ed7953"
             ],
             [
              0.7777777777777778,
              "#fb9f3a"
             ],
             [
              0.8888888888888888,
              "#fdca26"
             ],
             [
              1,
              "#f0f921"
             ]
            ],
            "type": "histogram2d"
           }
          ],
          "histogram2dcontour": [
           {
            "colorbar": {
             "outlinewidth": 0,
             "ticks": ""
            },
            "colorscale": [
             [
              0,
              "#0d0887"
             ],
             [
              0.1111111111111111,
              "#46039f"
             ],
             [
              0.2222222222222222,
              "#7201a8"
             ],
             [
              0.3333333333333333,
              "#9c179e"
             ],
             [
              0.4444444444444444,
              "#bd3786"
             ],
             [
              0.5555555555555556,
              "#d8576b"
             ],
             [
              0.6666666666666666,
              "#ed7953"
             ],
             [
              0.7777777777777778,
              "#fb9f3a"
             ],
             [
              0.8888888888888888,
              "#fdca26"
             ],
             [
              1,
              "#f0f921"
             ]
            ],
            "type": "histogram2dcontour"
           }
          ],
          "mesh3d": [
           {
            "colorbar": {
             "outlinewidth": 0,
             "ticks": ""
            },
            "type": "mesh3d"
           }
          ],
          "parcoords": [
           {
            "line": {
             "colorbar": {
              "outlinewidth": 0,
              "ticks": ""
             }
            },
            "type": "parcoords"
           }
          ],
          "pie": [
           {
            "automargin": true,
            "type": "pie"
           }
          ],
          "scatter": [
           {
            "fillpattern": {
             "fillmode": "overlay",
             "size": 10,
             "solidity": 0.2
            },
            "type": "scatter"
           }
          ],
          "scatter3d": [
           {
            "line": {
             "colorbar": {
              "outlinewidth": 0,
              "ticks": ""
             }
            },
            "marker": {
             "colorbar": {
              "outlinewidth": 0,
              "ticks": ""
             }
            },
            "type": "scatter3d"
           }
          ],
          "scattercarpet": [
           {
            "marker": {
             "colorbar": {
              "outlinewidth": 0,
              "ticks": ""
             }
            },
            "type": "scattercarpet"
           }
          ],
          "scattergeo": [
           {
            "marker": {
             "colorbar": {
              "outlinewidth": 0,
              "ticks": ""
             }
            },
            "type": "scattergeo"
           }
          ],
          "scattergl": [
           {
            "marker": {
             "colorbar": {
              "outlinewidth": 0,
              "ticks": ""
             }
            },
            "type": "scattergl"
           }
          ],
          "scattermapbox": [
           {
            "marker": {
             "colorbar": {
              "outlinewidth": 0,
              "ticks": ""
             }
            },
            "type": "scattermapbox"
           }
          ],
          "scatterpolar": [
           {
            "marker": {
             "colorbar": {
              "outlinewidth": 0,
              "ticks": ""
             }
            },
            "type": "scatterpolar"
           }
          ],
          "scatterpolargl": [
           {
            "marker": {
             "colorbar": {
              "outlinewidth": 0,
              "ticks": ""
             }
            },
            "type": "scatterpolargl"
           }
          ],
          "scatterternary": [
           {
            "marker": {
             "colorbar": {
              "outlinewidth": 0,
              "ticks": ""
             }
            },
            "type": "scatterternary"
           }
          ],
          "surface": [
           {
            "colorbar": {
             "outlinewidth": 0,
             "ticks": ""
            },
            "colorscale": [
             [
              0,
              "#0d0887"
             ],
             [
              0.1111111111111111,
              "#46039f"
             ],
             [
              0.2222222222222222,
              "#7201a8"
             ],
             [
              0.3333333333333333,
              "#9c179e"
             ],
             [
              0.4444444444444444,
              "#bd3786"
             ],
             [
              0.5555555555555556,
              "#d8576b"
             ],
             [
              0.6666666666666666,
              "#ed7953"
             ],
             [
              0.7777777777777778,
              "#fb9f3a"
             ],
             [
              0.8888888888888888,
              "#fdca26"
             ],
             [
              1,
              "#f0f921"
             ]
            ],
            "type": "surface"
           }
          ],
          "table": [
           {
            "cells": {
             "fill": {
              "color": "#EBF0F8"
             },
             "line": {
              "color": "white"
             }
            },
            "header": {
             "fill": {
              "color": "#C8D4E3"
             },
             "line": {
              "color": "white"
             }
            },
            "type": "table"
           }
          ]
         },
         "layout": {
          "annotationdefaults": {
           "arrowcolor": "#2a3f5f",
           "arrowhead": 0,
           "arrowwidth": 1
          },
          "autotypenumbers": "strict",
          "coloraxis": {
           "colorbar": {
            "outlinewidth": 0,
            "ticks": ""
           }
          },
          "colorscale": {
           "diverging": [
            [
             0,
             "#8e0152"
            ],
            [
             0.1,
             "#c51b7d"
            ],
            [
             0.2,
             "#de77ae"
            ],
            [
             0.3,
             "#f1b6da"
            ],
            [
             0.4,
             "#fde0ef"
            ],
            [
             0.5,
             "#f7f7f7"
            ],
            [
             0.6,
             "#e6f5d0"
            ],
            [
             0.7,
             "#b8e186"
            ],
            [
             0.8,
             "#7fbc41"
            ],
            [
             0.9,
             "#4d9221"
            ],
            [
             1,
             "#276419"
            ]
           ],
           "sequential": [
            [
             0,
             "#0d0887"
            ],
            [
             0.1111111111111111,
             "#46039f"
            ],
            [
             0.2222222222222222,
             "#7201a8"
            ],
            [
             0.3333333333333333,
             "#9c179e"
            ],
            [
             0.4444444444444444,
             "#bd3786"
            ],
            [
             0.5555555555555556,
             "#d8576b"
            ],
            [
             0.6666666666666666,
             "#ed7953"
            ],
            [
             0.7777777777777778,
             "#fb9f3a"
            ],
            [
             0.8888888888888888,
             "#fdca26"
            ],
            [
             1,
             "#f0f921"
            ]
           ],
           "sequentialminus": [
            [
             0,
             "#0d0887"
            ],
            [
             0.1111111111111111,
             "#46039f"
            ],
            [
             0.2222222222222222,
             "#7201a8"
            ],
            [
             0.3333333333333333,
             "#9c179e"
            ],
            [
             0.4444444444444444,
             "#bd3786"
            ],
            [
             0.5555555555555556,
             "#d8576b"
            ],
            [
             0.6666666666666666,
             "#ed7953"
            ],
            [
             0.7777777777777778,
             "#fb9f3a"
            ],
            [
             0.8888888888888888,
             "#fdca26"
            ],
            [
             1,
             "#f0f921"
            ]
           ]
          },
          "colorway": [
           "#636efa",
           "#EF553B",
           "#00cc96",
           "#ab63fa",
           "#FFA15A",
           "#19d3f3",
           "#FF6692",
           "#B6E880",
           "#FF97FF",
           "#FECB52"
          ],
          "font": {
           "color": "#2a3f5f"
          },
          "geo": {
           "bgcolor": "white",
           "lakecolor": "white",
           "landcolor": "#E5ECF6",
           "showlakes": true,
           "showland": true,
           "subunitcolor": "white"
          },
          "hoverlabel": {
           "align": "left"
          },
          "hovermode": "closest",
          "mapbox": {
           "style": "light"
          },
          "paper_bgcolor": "white",
          "plot_bgcolor": "#E5ECF6",
          "polar": {
           "angularaxis": {
            "gridcolor": "white",
            "linecolor": "white",
            "ticks": ""
           },
           "bgcolor": "#E5ECF6",
           "radialaxis": {
            "gridcolor": "white",
            "linecolor": "white",
            "ticks": ""
           }
          },
          "scene": {
           "xaxis": {
            "backgroundcolor": "#E5ECF6",
            "gridcolor": "white",
            "gridwidth": 2,
            "linecolor": "white",
            "showbackground": true,
            "ticks": "",
            "zerolinecolor": "white"
           },
           "yaxis": {
            "backgroundcolor": "#E5ECF6",
            "gridcolor": "white",
            "gridwidth": 2,
            "linecolor": "white",
            "showbackground": true,
            "ticks": "",
            "zerolinecolor": "white"
           },
           "zaxis": {
            "backgroundcolor": "#E5ECF6",
            "gridcolor": "white",
            "gridwidth": 2,
            "linecolor": "white",
            "showbackground": true,
            "ticks": "",
            "zerolinecolor": "white"
           }
          },
          "shapedefaults": {
           "line": {
            "color": "#2a3f5f"
           }
          },
          "ternary": {
           "aaxis": {
            "gridcolor": "white",
            "linecolor": "white",
            "ticks": ""
           },
           "baxis": {
            "gridcolor": "white",
            "linecolor": "white",
            "ticks": ""
           },
           "bgcolor": "#E5ECF6",
           "caxis": {
            "gridcolor": "white",
            "linecolor": "white",
            "ticks": ""
           }
          },
          "title": {
           "x": 0.05
          },
          "xaxis": {
           "automargin": true,
           "gridcolor": "white",
           "linecolor": "white",
           "ticks": "",
           "title": {
            "standoff": 15
           },
           "zerolinecolor": "white",
           "zerolinewidth": 2
          },
          "yaxis": {
           "automargin": true,
           "gridcolor": "white",
           "linecolor": "white",
           "ticks": "",
           "title": {
            "standoff": 15
           },
           "zerolinecolor": "white",
           "zerolinewidth": 2
          }
         }
        },
        "title": {
         "text": "Comparação de Acurácia por Combinação de Modelos e DataFrame"
        },
        "width": 1000,
        "xaxis": {
         "anchor": "y",
         "domain": [
          0,
          0.31999999999999995
         ],
         "tickangle": -45,
         "title": {
          "text": "Combinação de Modelos"
         }
        },
        "xaxis2": {
         "anchor": "y2",
         "domain": [
          0.33999999999999997,
          0.6599999999999999
         ],
         "matches": "x",
         "title": {
          "text": "Abbreviated Combination"
         }
        },
        "xaxis3": {
         "anchor": "y3",
         "domain": [
          0.6799999999999999,
          0.9999999999999999
         ],
         "matches": "x",
         "title": {
          "text": "Abbreviated Combination"
         }
        },
        "yaxis": {
         "anchor": "x",
         "domain": [
          0,
          1
         ],
         "title": {
          "text": "Mean Accuracy"
         }
        },
        "yaxis2": {
         "anchor": "x2",
         "domain": [
          0,
          1
         ],
         "matches": "y",
         "showticklabels": false
        },
        "yaxis3": {
         "anchor": "x3",
         "domain": [
          0,
          1
         ],
         "matches": "y",
         "showticklabels": false
        }
       }
      }
     },
     "metadata": {},
     "output_type": "display_data"
    }
   ],
   "source": [
    "# Usar um gráfico de facetas para comparar\n",
    "fig = px.line(results_df, x='Abbreviated Combination', y='Mean Accuracy', facet_col='DataFrame', \n",
    "              title='Comparação de Acurácia por Combinação de Modelos e DataFrame')\n",
    "\n",
    "# Atualizar layout\n",
    "fig.update_layout(\n",
    "    xaxis_tickangle=-45,\n",
    "    xaxis_title=\"Combinação de Modelos\",\n",
    "    yaxis_title=\"Mean Accuracy\",\n",
    "    height=600,\n",
    "    width=1000\n",
    ")\n",
    "\n",
    "# Exibir o gráfico\n",
    "fig.show()\n"
   ]
  },
  {
   "cell_type": "code",
   "execution_count": 65,
   "metadata": {},
   "outputs": [
    {
     "data": {
      "application/vnd.plotly.v1+json": {
       "config": {
        "plotlyServerURL": "https://plot.ly"
       },
       "data": [
        {
         "customdata": [
          [
           0.007152672778857995
          ],
          [
           0.004738076965433677
          ],
          [
           0.004753164342038821
          ],
          [
           0.0034491917966627686
          ],
          [
           0.003764593851577332
          ],
          [
           0.0037826660419625078
          ],
          [
           0.008285894859572002
          ],
          [
           0.0017203479348795402
          ],
          [
           0.003945250704928497
          ],
          [
           0.0034491917966627686
          ],
          [
           0.005068384821677918
          ],
          [
           0.003560891884553638
          ]
         ],
         "hovertemplate": "DataFrame=Stemmed<br>Abbreviated Combination=%{x}<br>Mean Accuracy=%{y}<br>Std Deviation=%{customdata[0]}<extra></extra>",
         "legendgroup": "Stemmed",
         "marker": {
          "color": "#636efa",
          "size": [
           0.007152672778857995,
           0.004738076965433677,
           0.004753164342038821,
           0.0034491917966627686,
           0.003764593851577332,
           0.0037826660419625078,
           0.008285894859572002,
           0.0017203479348795402,
           0.003945250704928497,
           0.0034491917966627686,
           0.005068384821677918,
           0.003560891884553638
          ],
          "sizemode": "area",
          "sizeref": 0.000020872915806890642,
          "symbol": "circle"
         },
         "mode": "markers",
         "name": "Stemmed",
         "orientation": "v",
         "showlegend": true,
         "type": "scatter",
         "x": [
          "Stem_Cnt_NMF_BNB",
          "Stem_Cnt_NMF_LR",
          "Stem_Cnt_NMF_RF",
          "Stem_Cnt_NT_BNB",
          "Stem_Cnt_NT_LR",
          "Stem_Cnt_NT_RF",
          "Stem_TF_NMF_BNB",
          "Stem_TF_NMF_LR",
          "Stem_TF_NMF_RF",
          "Stem_TF_NT_BNB",
          "Stem_TF_NT_LR",
          "Stem_TF_NT_RF"
         ],
         "xaxis": "x",
         "y": [
          0.9138103710621442,
          0.9392228868618722,
          0.9749646488636273,
          0.9808508908228738,
          0.9838928999847034,
          0.9767590793085958,
          0.9037865970002656,
          0.8701186126832566,
          0.974058247659225,
          0.9808508908228738,
          0.9633349864343737,
          0.9777282527312395
         ],
         "yaxis": "y"
        },
        {
         "customdata": [
          [
           0.007504301887760171
          ],
          [
           0.005048639501766047
          ],
          [
           0.004418857564179202
          ],
          [
           0.0034418357800687165
          ],
          [
           0.0034747375741482384
          ],
          [
           0.003769905505473981
          ],
          [
           0.00724565625359775
          ],
          [
           0.0020975997434376555
          ],
          [
           0.004462490911287724
          ],
          [
           0.0034418357800687165
          ],
          [
           0.005105592094528604
          ],
          [
           0.0037726960827430996
          ]
         ],
         "hovertemplate": "DataFrame=Lemmatized<br>Abbreviated Combination=%{x}<br>Mean Accuracy=%{y}<br>Std Deviation=%{customdata[0]}<extra></extra>",
         "legendgroup": "Lemmatized",
         "marker": {
          "color": "#EF553B",
          "size": [
           0.007504301887760171,
           0.005048639501766047,
           0.004418857564179202,
           0.0034418357800687165,
           0.0034747375741482384,
           0.003769905505473981,
           0.00724565625359775,
           0.0020975997434376555,
           0.004462490911287724,
           0.0034418357800687165,
           0.005105592094528604,
           0.0037726960827430996
          ],
          "sizemode": "area",
          "sizeref": 0.000020872915806890642,
          "symbol": "circle"
         },
         "mode": "markers",
         "name": "Lemmatized",
         "orientation": "v",
         "showlegend": true,
         "type": "scatter",
         "x": [
          "Lem_Cnt_NMF_BNB",
          "Lem_Cnt_NMF_LR",
          "Lem_Cnt_NMF_RF",
          "Lem_Cnt_NT_BNB",
          "Lem_Cnt_NT_LR",
          "Lem_Cnt_NT_RF",
          "Lem_TF_NMF_BNB",
          "Lem_TF_NMF_LR",
          "Lem_TF_NMF_RF",
          "Lem_TF_NT_BNB",
          "Lem_TF_NT_LR",
          "Lem_TF_NT_RF"
         ],
         "xaxis": "x",
         "y": [
          0.9181263092640748,
          0.9374553541956832,
          0.9754219433061485,
          0.9805547737317952,
          0.9836326895363533,
          0.9771628921754112,
          0.9069632802247789,
          0.8728554958900583,
          0.9747311832285384,
          0.9805547737317952,
          0.9624465546529692,
          0.9781858611556143
         ],
         "yaxis": "y"
        },
        {
         "customdata": [
          [
           0.008349166322756257
          ],
          [
           0.005488250794377151
          ],
          [
           0.00422227157288152
          ],
          [
           0.0035692156574778015
          ],
          [
           0.003776143089621215
          ],
          [
           0.004156650585203245
          ],
          [
           0.007908139215877777
          ],
          [
           0.0022056962948159655
          ],
          [
           0.00401099987794003
          ],
          [
           0.0035692156574778015
          ],
          [
           0.005086873743286921
          ],
          [
           0.004037403173350215
          ]
         ],
         "hovertemplate": "DataFrame=NoStopwords<br>Abbreviated Combination=%{x}<br>Mean Accuracy=%{y}<br>Std Deviation=%{customdata[0]}<extra></extra>",
         "legendgroup": "NoStopwords",
         "marker": {
          "color": "#00cc96",
          "size": [
           0.008349166322756257,
           0.005488250794377151,
           0.00422227157288152,
           0.0035692156574778015,
           0.003776143089621215,
           0.004156650585203245,
           0.007908139215877777,
           0.0022056962948159655,
           0.00401099987794003,
           0.0035692156574778015,
           0.005086873743286921,
           0.004037403173350215
          ],
          "sizemode": "area",
          "sizeref": 0.000020872915806890642,
          "symbol": "circle"
         },
         "mode": "markers",
         "name": "NoStopwords",
         "orientation": "v",
         "showlegend": true,
         "type": "scatter",
         "x": [
          "NoSW_Cnt_NMF_BNB",
          "NoSW_Cnt_NMF_LR",
          "NoSW_Cnt_NMF_RF",
          "NoSW_Cnt_NT_BNB",
          "NoSW_Cnt_NT_LR",
          "NoSW_Cnt_NT_RF",
          "NoSW_TF_NMF_BNB",
          "NoSW_TF_NMF_LR",
          "NoSW_TF_NMF_RF",
          "NoSW_TF_NT_BNB",
          "NoSW_TF_NT_LR",
          "NoSW_TF_NT_RF"
         ],
         "xaxis": "x",
         "y": [
          0.9146988028435485,
          0.9253677935126519,
          0.9769745594190531,
          0.9788856703512571,
          0.9818021994831375,
          0.9762205923790969,
          0.9072510405680657,
          0.8716889405930229,
          0.973582323626732,
          0.9788856703512571,
          0.9555187624284485,
          0.9781229198702208
         ],
         "yaxis": "y"
        }
       ],
       "layout": {
        "height": 600,
        "legend": {
         "itemsizing": "constant",
         "title": {
          "text": "DataFrame"
         },
         "tracegroupgap": 0
        },
        "template": {
         "data": {
          "bar": [
           {
            "error_x": {
             "color": "#2a3f5f"
            },
            "error_y": {
             "color": "#2a3f5f"
            },
            "marker": {
             "line": {
              "color": "#E5ECF6",
              "width": 0.5
             },
             "pattern": {
              "fillmode": "overlay",
              "size": 10,
              "solidity": 0.2
             }
            },
            "type": "bar"
           }
          ],
          "barpolar": [
           {
            "marker": {
             "line": {
              "color": "#E5ECF6",
              "width": 0.5
             },
             "pattern": {
              "fillmode": "overlay",
              "size": 10,
              "solidity": 0.2
             }
            },
            "type": "barpolar"
           }
          ],
          "carpet": [
           {
            "aaxis": {
             "endlinecolor": "#2a3f5f",
             "gridcolor": "white",
             "linecolor": "white",
             "minorgridcolor": "white",
             "startlinecolor": "#2a3f5f"
            },
            "baxis": {
             "endlinecolor": "#2a3f5f",
             "gridcolor": "white",
             "linecolor": "white",
             "minorgridcolor": "white",
             "startlinecolor": "#2a3f5f"
            },
            "type": "carpet"
           }
          ],
          "choropleth": [
           {
            "colorbar": {
             "outlinewidth": 0,
             "ticks": ""
            },
            "type": "choropleth"
           }
          ],
          "contour": [
           {
            "colorbar": {
             "outlinewidth": 0,
             "ticks": ""
            },
            "colorscale": [
             [
              0,
              "#0d0887"
             ],
             [
              0.1111111111111111,
              "#46039f"
             ],
             [
              0.2222222222222222,
              "#7201a8"
             ],
             [
              0.3333333333333333,
              "#9c179e"
             ],
             [
              0.4444444444444444,
              "#bd3786"
             ],
             [
              0.5555555555555556,
              "#d8576b"
             ],
             [
              0.6666666666666666,
              "#ed7953"
             ],
             [
              0.7777777777777778,
              "#fb9f3a"
             ],
             [
              0.8888888888888888,
              "#fdca26"
             ],
             [
              1,
              "#f0f921"
             ]
            ],
            "type": "contour"
           }
          ],
          "contourcarpet": [
           {
            "colorbar": {
             "outlinewidth": 0,
             "ticks": ""
            },
            "type": "contourcarpet"
           }
          ],
          "heatmap": [
           {
            "colorbar": {
             "outlinewidth": 0,
             "ticks": ""
            },
            "colorscale": [
             [
              0,
              "#0d0887"
             ],
             [
              0.1111111111111111,
              "#46039f"
             ],
             [
              0.2222222222222222,
              "#7201a8"
             ],
             [
              0.3333333333333333,
              "#9c179e"
             ],
             [
              0.4444444444444444,
              "#bd3786"
             ],
             [
              0.5555555555555556,
              "#d8576b"
             ],
             [
              0.6666666666666666,
              "#ed7953"
             ],
             [
              0.7777777777777778,
              "#fb9f3a"
             ],
             [
              0.8888888888888888,
              "#fdca26"
             ],
             [
              1,
              "#f0f921"
             ]
            ],
            "type": "heatmap"
           }
          ],
          "heatmapgl": [
           {
            "colorbar": {
             "outlinewidth": 0,
             "ticks": ""
            },
            "colorscale": [
             [
              0,
              "#0d0887"
             ],
             [
              0.1111111111111111,
              "#46039f"
             ],
             [
              0.2222222222222222,
              "#7201a8"
             ],
             [
              0.3333333333333333,
              "#9c179e"
             ],
             [
              0.4444444444444444,
              "#bd3786"
             ],
             [
              0.5555555555555556,
              "#d8576b"
             ],
             [
              0.6666666666666666,
              "#ed7953"
             ],
             [
              0.7777777777777778,
              "#fb9f3a"
             ],
             [
              0.8888888888888888,
              "#fdca26"
             ],
             [
              1,
              "#f0f921"
             ]
            ],
            "type": "heatmapgl"
           }
          ],
          "histogram": [
           {
            "marker": {
             "pattern": {
              "fillmode": "overlay",
              "size": 10,
              "solidity": 0.2
             }
            },
            "type": "histogram"
           }
          ],
          "histogram2d": [
           {
            "colorbar": {
             "outlinewidth": 0,
             "ticks": ""
            },
            "colorscale": [
             [
              0,
              "#0d0887"
             ],
             [
              0.1111111111111111,
              "#46039f"
             ],
             [
              0.2222222222222222,
              "#7201a8"
             ],
             [
              0.3333333333333333,
              "#9c179e"
             ],
             [
              0.4444444444444444,
              "#bd3786"
             ],
             [
              0.5555555555555556,
              "#d8576b"
             ],
             [
              0.6666666666666666,
              "#ed7953"
             ],
             [
              0.7777777777777778,
              "#fb9f3a"
             ],
             [
              0.8888888888888888,
              "#fdca26"
             ],
             [
              1,
              "#f0f921"
             ]
            ],
            "type": "histogram2d"
           }
          ],
          "histogram2dcontour": [
           {
            "colorbar": {
             "outlinewidth": 0,
             "ticks": ""
            },
            "colorscale": [
             [
              0,
              "#0d0887"
             ],
             [
              0.1111111111111111,
              "#46039f"
             ],
             [
              0.2222222222222222,
              "#7201a8"
             ],
             [
              0.3333333333333333,
              "#9c179e"
             ],
             [
              0.4444444444444444,
              "#bd3786"
             ],
             [
              0.5555555555555556,
              "#d8576b"
             ],
             [
              0.6666666666666666,
              "#ed7953"
             ],
             [
              0.7777777777777778,
              "#fb9f3a"
             ],
             [
              0.8888888888888888,
              "#fdca26"
             ],
             [
              1,
              "#f0f921"
             ]
            ],
            "type": "histogram2dcontour"
           }
          ],
          "mesh3d": [
           {
            "colorbar": {
             "outlinewidth": 0,
             "ticks": ""
            },
            "type": "mesh3d"
           }
          ],
          "parcoords": [
           {
            "line": {
             "colorbar": {
              "outlinewidth": 0,
              "ticks": ""
             }
            },
            "type": "parcoords"
           }
          ],
          "pie": [
           {
            "automargin": true,
            "type": "pie"
           }
          ],
          "scatter": [
           {
            "fillpattern": {
             "fillmode": "overlay",
             "size": 10,
             "solidity": 0.2
            },
            "type": "scatter"
           }
          ],
          "scatter3d": [
           {
            "line": {
             "colorbar": {
              "outlinewidth": 0,
              "ticks": ""
             }
            },
            "marker": {
             "colorbar": {
              "outlinewidth": 0,
              "ticks": ""
             }
            },
            "type": "scatter3d"
           }
          ],
          "scattercarpet": [
           {
            "marker": {
             "colorbar": {
              "outlinewidth": 0,
              "ticks": ""
             }
            },
            "type": "scattercarpet"
           }
          ],
          "scattergeo": [
           {
            "marker": {
             "colorbar": {
              "outlinewidth": 0,
              "ticks": ""
             }
            },
            "type": "scattergeo"
           }
          ],
          "scattergl": [
           {
            "marker": {
             "colorbar": {
              "outlinewidth": 0,
              "ticks": ""
             }
            },
            "type": "scattergl"
           }
          ],
          "scattermapbox": [
           {
            "marker": {
             "colorbar": {
              "outlinewidth": 0,
              "ticks": ""
             }
            },
            "type": "scattermapbox"
           }
          ],
          "scatterpolar": [
           {
            "marker": {
             "colorbar": {
              "outlinewidth": 0,
              "ticks": ""
             }
            },
            "type": "scatterpolar"
           }
          ],
          "scatterpolargl": [
           {
            "marker": {
             "colorbar": {
              "outlinewidth": 0,
              "ticks": ""
             }
            },
            "type": "scatterpolargl"
           }
          ],
          "scatterternary": [
           {
            "marker": {
             "colorbar": {
              "outlinewidth": 0,
              "ticks": ""
             }
            },
            "type": "scatterternary"
           }
          ],
          "surface": [
           {
            "colorbar": {
             "outlinewidth": 0,
             "ticks": ""
            },
            "colorscale": [
             [
              0,
              "#0d0887"
             ],
             [
              0.1111111111111111,
              "#46039f"
             ],
             [
              0.2222222222222222,
              "#7201a8"
             ],
             [
              0.3333333333333333,
              "#9c179e"
             ],
             [
              0.4444444444444444,
              "#bd3786"
             ],
             [
              0.5555555555555556,
              "#d8576b"
             ],
             [
              0.6666666666666666,
              "#ed7953"
             ],
             [
              0.7777777777777778,
              "#fb9f3a"
             ],
             [
              0.8888888888888888,
              "#fdca26"
             ],
             [
              1,
              "#f0f921"
             ]
            ],
            "type": "surface"
           }
          ],
          "table": [
           {
            "cells": {
             "fill": {
              "color": "#EBF0F8"
             },
             "line": {
              "color": "white"
             }
            },
            "header": {
             "fill": {
              "color": "#C8D4E3"
             },
             "line": {
              "color": "white"
             }
            },
            "type": "table"
           }
          ]
         },
         "layout": {
          "annotationdefaults": {
           "arrowcolor": "#2a3f5f",
           "arrowhead": 0,
           "arrowwidth": 1
          },
          "autotypenumbers": "strict",
          "coloraxis": {
           "colorbar": {
            "outlinewidth": 0,
            "ticks": ""
           }
          },
          "colorscale": {
           "diverging": [
            [
             0,
             "#8e0152"
            ],
            [
             0.1,
             "#c51b7d"
            ],
            [
             0.2,
             "#de77ae"
            ],
            [
             0.3,
             "#f1b6da"
            ],
            [
             0.4,
             "#fde0ef"
            ],
            [
             0.5,
             "#f7f7f7"
            ],
            [
             0.6,
             "#e6f5d0"
            ],
            [
             0.7,
             "#b8e186"
            ],
            [
             0.8,
             "#7fbc41"
            ],
            [
             0.9,
             "#4d9221"
            ],
            [
             1,
             "#276419"
            ]
           ],
           "sequential": [
            [
             0,
             "#0d0887"
            ],
            [
             0.1111111111111111,
             "#46039f"
            ],
            [
             0.2222222222222222,
             "#7201a8"
            ],
            [
             0.3333333333333333,
             "#9c179e"
            ],
            [
             0.4444444444444444,
             "#bd3786"
            ],
            [
             0.5555555555555556,
             "#d8576b"
            ],
            [
             0.6666666666666666,
             "#ed7953"
            ],
            [
             0.7777777777777778,
             "#fb9f3a"
            ],
            [
             0.8888888888888888,
             "#fdca26"
            ],
            [
             1,
             "#f0f921"
            ]
           ],
           "sequentialminus": [
            [
             0,
             "#0d0887"
            ],
            [
             0.1111111111111111,
             "#46039f"
            ],
            [
             0.2222222222222222,
             "#7201a8"
            ],
            [
             0.3333333333333333,
             "#9c179e"
            ],
            [
             0.4444444444444444,
             "#bd3786"
            ],
            [
             0.5555555555555556,
             "#d8576b"
            ],
            [
             0.6666666666666666,
             "#ed7953"
            ],
            [
             0.7777777777777778,
             "#fb9f3a"
            ],
            [
             0.8888888888888888,
             "#fdca26"
            ],
            [
             1,
             "#f0f921"
            ]
           ]
          },
          "colorway": [
           "#636efa",
           "#EF553B",
           "#00cc96",
           "#ab63fa",
           "#FFA15A",
           "#19d3f3",
           "#FF6692",
           "#B6E880",
           "#FF97FF",
           "#FECB52"
          ],
          "font": {
           "color": "#2a3f5f"
          },
          "geo": {
           "bgcolor": "white",
           "lakecolor": "white",
           "landcolor": "#E5ECF6",
           "showlakes": true,
           "showland": true,
           "subunitcolor": "white"
          },
          "hoverlabel": {
           "align": "left"
          },
          "hovermode": "closest",
          "mapbox": {
           "style": "light"
          },
          "paper_bgcolor": "white",
          "plot_bgcolor": "#E5ECF6",
          "polar": {
           "angularaxis": {
            "gridcolor": "white",
            "linecolor": "white",
            "ticks": ""
           },
           "bgcolor": "#E5ECF6",
           "radialaxis": {
            "gridcolor": "white",
            "linecolor": "white",
            "ticks": ""
           }
          },
          "scene": {
           "xaxis": {
            "backgroundcolor": "#E5ECF6",
            "gridcolor": "white",
            "gridwidth": 2,
            "linecolor": "white",
            "showbackground": true,
            "ticks": "",
            "zerolinecolor": "white"
           },
           "yaxis": {
            "backgroundcolor": "#E5ECF6",
            "gridcolor": "white",
            "gridwidth": 2,
            "linecolor": "white",
            "showbackground": true,
            "ticks": "",
            "zerolinecolor": "white"
           },
           "zaxis": {
            "backgroundcolor": "#E5ECF6",
            "gridcolor": "white",
            "gridwidth": 2,
            "linecolor": "white",
            "showbackground": true,
            "ticks": "",
            "zerolinecolor": "white"
           }
          },
          "shapedefaults": {
           "line": {
            "color": "#2a3f5f"
           }
          },
          "ternary": {
           "aaxis": {
            "gridcolor": "white",
            "linecolor": "white",
            "ticks": ""
           },
           "baxis": {
            "gridcolor": "white",
            "linecolor": "white",
            "ticks": ""
           },
           "bgcolor": "#E5ECF6",
           "caxis": {
            "gridcolor": "white",
            "linecolor": "white",
            "ticks": ""
           }
          },
          "title": {
           "x": 0.05
          },
          "xaxis": {
           "automargin": true,
           "gridcolor": "white",
           "linecolor": "white",
           "ticks": "",
           "title": {
            "standoff": 15
           },
           "zerolinecolor": "white",
           "zerolinewidth": 2
          },
          "yaxis": {
           "automargin": true,
           "gridcolor": "white",
           "linecolor": "white",
           "ticks": "",
           "title": {
            "standoff": 15
           },
           "zerolinecolor": "white",
           "zerolinewidth": 2
          }
         }
        },
        "title": {
         "text": "Mean Accuracy vs Std Deviation by Model Combination"
        },
        "width": 1000,
        "xaxis": {
         "anchor": "y",
         "domain": [
          0,
          1
         ],
         "tickangle": -45,
         "title": {
          "text": "Combinação de Modelos"
         }
        },
        "yaxis": {
         "anchor": "x",
         "domain": [
          0,
          1
         ],
         "title": {
          "text": "Mean Accuracy"
         }
        }
       }
      }
     },
     "metadata": {},
     "output_type": "display_data"
    }
   ],
   "source": [
    "# Criar um gráfico de dispersão com desvio padrão como tamanho dos pontos\n",
    "fig = px.scatter(results_df, x='Abbreviated Combination', y='Mean Accuracy', \n",
    "                 size='Std Deviation', color='DataFrame', \n",
    "                 hover_data=['Std Deviation'], \n",
    "                 title='Mean Accuracy vs Std Deviation by Model Combination')\n",
    "\n",
    "# Atualizar layout\n",
    "fig.update_layout(\n",
    "    xaxis_tickangle=-45,\n",
    "    xaxis_title=\"Combinação de Modelos\",\n",
    "    yaxis_title=\"Mean Accuracy\",\n",
    "    height=600,\n",
    "    width=1000\n",
    ")\n",
    "\n",
    "# Exibir o gráfico\n",
    "fig.show()\n"
   ]
  },
  {
   "cell_type": "markdown",
   "metadata": {},
   "source": [
    "## Análise das diferenças de tamanho do dataset"
   ]
  },
  {
   "cell_type": "code",
   "execution_count": 91,
   "metadata": {},
   "outputs": [
    {
     "name": "stdout",
     "output_type": "stream",
     "text": [
      "Fraction: 0.15, Accuracy: 0.9583\n",
      "Fraction: 0.25, Accuracy: 0.9606\n",
      "Fraction: 0.5, Accuracy: 0.9767\n",
      "Fraction: 0.75, Accuracy: 0.9844\n",
      "Fraction: 1.0, Accuracy: 0.9767\n"
     ]
    },
    {
     "data": {
      "image/png": "[encoded data removed]",
      "text/plain": [
       "<Figure size 640x480 with 1 Axes>"
      ]
     },
     "metadata": {},
     "output_type": "display_data"
    }
   ],
   "source": [
    "def downsampling_experiment(df, label_col, text_col, fractions, model, vectorizer, random_state=42):\n",
    "    results = []\n",
    "    \n",
    "    for fraction in fractions:\n",
    "        df_sampled = df.sample(frac=fraction, random_state=random_state)\n",
    "        \n",
    "        X_train, X_test, y_train, y_test = train_test_split(\n",
    "            df_sampled[text_col], df_sampled[label_col], test_size=0.2, random_state=random_state\n",
    "        )\n",
    "        \n",
    "        X_train_vec = vectorizer.fit_transform(X_train)\n",
    "        X_test_vec = vectorizer.transform(X_test)\n",
    "        \n",
    "        model.fit(X_train_vec, y_train)\n",
    "        \n",
    "        y_pred = model.predict(X_test_vec)\n",
    "        accuracy = accuracy_score(y_test, y_pred)\n",
    "        \n",
    "        results.append((fraction, accuracy))\n",
    "        print(f\"Fraction: {fraction}, Accuracy: {accuracy:.4f}\")\n",
    "    \n",
    "    return results\n",
    "\n",
    "fractions = [0.15, 0.25, 0.5, 0.75, 1.0]\n",
    "vectorizer = CountVectorizer()\n",
    "model = LogisticRegression(max_iter=1000)\n",
    "\n",
    "\n",
    "results = downsampling_experiment(df_stemmed, label_col='label', text_col='text', fractions=fractions, model=model, vectorizer=vectorizer)\n",
    "\n",
    "fractions, accuracies = zip(*results)\n",
    "plt.plot(fractions, accuracies, marker='o')\n",
    "plt.xlabel('Fraction of Dataset')\n",
    "plt.ylabel('Accuracy')\n",
    "plt.title('Impact of Dataset Size on Accuracy')\n",
    "plt.show()\n"
   ]
  }
 ],
 "metadata": {
  "kernelspec": {
   "display_name": "Python 3",
   "language": "python",
   "name": "python3"
  },
  "language_info": {
   "codemirror_mode": {
    "name": "ipython",
    "version": 3
   },
   "file_extension": ".py",
   "mimetype": "text/x-python",
   "name": "python",
   "nbconvert_exporter": "python",
   "pygments_lexer": "ipython3",
   "version": "3.11.3"
  }
 },
 "nbformat": 4,
 "nbformat_minor": 2
}
